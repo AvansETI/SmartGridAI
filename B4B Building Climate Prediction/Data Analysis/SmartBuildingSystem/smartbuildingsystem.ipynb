{
 "cells": [
  {
   "cell_type": "markdown",
   "metadata": {},
   "source": [
    "# Smart Building System Dataset\n",
    "Analysis & Data transformation"
   ]
  },
  {
   "cell_type": "code",
   "execution_count": 1,
   "metadata": {},
   "outputs": [],
   "source": [
    "import numpy as np\n",
    "import pandas as pd\n",
    "import matplotlib as plot\n",
    "import glob\n",
    "import seaborn as sns\n",
    "import os\n",
    "import re"
   ]
  },
  {
   "cell_type": "code",
   "execution_count": 2,
   "metadata": {},
   "outputs": [
    {
     "data": {
      "text/html": [
       "<div>\n",
       "<style scoped>\n",
       "    .dataframe tbody tr th:only-of-type {\n",
       "        vertical-align: middle;\n",
       "    }\n",
       "\n",
       "    .dataframe tbody tr th {\n",
       "        vertical-align: top;\n",
       "    }\n",
       "\n",
       "    .dataframe thead th {\n",
       "        text-align: right;\n",
       "    }\n",
       "</style>\n",
       "<table border=\"1\" class=\"dataframe\">\n",
       "  <thead>\n",
       "    <tr style=\"text-align: right;\">\n",
       "      <th></th>\n",
       "      <th>timestamp</th>\n",
       "      <th>co2</th>\n",
       "    </tr>\n",
       "  </thead>\n",
       "  <tbody>\n",
       "    <tr>\n",
       "      <th>0</th>\n",
       "      <td>1377299107</td>\n",
       "      <td>488.0</td>\n",
       "    </tr>\n",
       "    <tr>\n",
       "      <th>1</th>\n",
       "      <td>1377299108</td>\n",
       "      <td>495.0</td>\n",
       "    </tr>\n",
       "    <tr>\n",
       "      <th>2</th>\n",
       "      <td>1377299110</td>\n",
       "      <td>487.0</td>\n",
       "    </tr>\n",
       "    <tr>\n",
       "      <th>3</th>\n",
       "      <td>1377299127</td>\n",
       "      <td>496.0</td>\n",
       "    </tr>\n",
       "    <tr>\n",
       "      <th>4</th>\n",
       "      <td>1377299130</td>\n",
       "      <td>495.0</td>\n",
       "    </tr>\n",
       "  </tbody>\n",
       "</table>\n",
       "</div>"
      ],
      "text/plain": [
       "    timestamp    co2\n",
       "0  1377299107  488.0\n",
       "1  1377299108  495.0\n",
       "2  1377299110  487.0\n",
       "3  1377299127  496.0\n",
       "4  1377299130  495.0"
      ]
     },
     "execution_count": 2,
     "metadata": {},
     "output_type": "execute_result"
    }
   ],
   "source": [
    "base_path = '../../data/SmartBuildingSystem/KETI/413/'\n",
    "\n",
    "df_co2 = pd.read_csv(os.path.join(base_path, 'co2.csv'), names=['timestamp', 'co2'], sep=',')\n",
    "df_co2.head()"
   ]
  },
  {
   "cell_type": "code",
   "execution_count": 3,
   "metadata": {},
   "outputs": [
    {
     "data": {
      "text/html": [
       "<div>\n",
       "<style scoped>\n",
       "    .dataframe tbody tr th:only-of-type {\n",
       "        vertical-align: middle;\n",
       "    }\n",
       "\n",
       "    .dataframe tbody tr th {\n",
       "        vertical-align: top;\n",
       "    }\n",
       "\n",
       "    .dataframe thead th {\n",
       "        text-align: right;\n",
       "    }\n",
       "</style>\n",
       "<table border=\"1\" class=\"dataframe\">\n",
       "  <thead>\n",
       "    <tr style=\"text-align: right;\">\n",
       "      <th></th>\n",
       "      <th>timestamp</th>\n",
       "      <th>humidity</th>\n",
       "    </tr>\n",
       "  </thead>\n",
       "  <tbody>\n",
       "    <tr>\n",
       "      <th>0</th>\n",
       "      <td>1377299107</td>\n",
       "      <td>45.34</td>\n",
       "    </tr>\n",
       "    <tr>\n",
       "      <th>1</th>\n",
       "      <td>1377299108</td>\n",
       "      <td>45.34</td>\n",
       "    </tr>\n",
       "    <tr>\n",
       "      <th>2</th>\n",
       "      <td>1377299126</td>\n",
       "      <td>45.34</td>\n",
       "    </tr>\n",
       "    <tr>\n",
       "      <th>3</th>\n",
       "      <td>1377299131</td>\n",
       "      <td>45.31</td>\n",
       "    </tr>\n",
       "    <tr>\n",
       "      <th>4</th>\n",
       "      <td>1377299136</td>\n",
       "      <td>45.34</td>\n",
       "    </tr>\n",
       "  </tbody>\n",
       "</table>\n",
       "</div>"
      ],
      "text/plain": [
       "    timestamp  humidity\n",
       "0  1377299107     45.34\n",
       "1  1377299108     45.34\n",
       "2  1377299126     45.34\n",
       "3  1377299131     45.31\n",
       "4  1377299136     45.34"
      ]
     },
     "execution_count": 3,
     "metadata": {},
     "output_type": "execute_result"
    }
   ],
   "source": [
    "df_hum = pd.read_csv(os.path.join(base_path, 'humidity.csv'), names=['timestamp', 'humidity'], sep=',')\n",
    "df_hum.head()"
   ]
  },
  {
   "cell_type": "code",
   "execution_count": null,
   "metadata": {},
   "outputs": [],
   "source": [
    "df_light = pd.read_csv(os.path.join(base_path, 'light.csv'), names=['timestamp', 'light'], sep=',')\n",
    "print(df_light.head())\n",
    "\n",
    "df_pir = pd.read_csv(os.path.join(base_path, 'pir.csv'), names=['timestamp', 'pir'], sep=',')\n",
    "print(df_pir.head())\n",
    "\n",
    "df_temp = pd.read_csv(os.path.join(base_path, 'temperature.csv'), names=['timestamp', 'temperature'], sep=',')\n",
    "print(df_temp.head())"
   ]
  },
  {
   "cell_type": "markdown",
   "metadata": {},
   "source": [
    "### Importing, transform and export data from Smart Building System"
   ]
  },
  {
   "cell_type": "code",
   "execution_count": 4,
   "metadata": {},
   "outputs": [],
   "source": [
    "# Applying resampling on the given dataframe\n",
    "def resample_data(dataframe, col_name, timestamp_name):\n",
    "    dataframe[timestamp_name] = pd.to_datetime(dataframe[timestamp_name], unit='s')\n",
    "\n",
    "    aggregates = {\n",
    "        col_name: 'mean'\n",
    "    }\n",
    "\n",
    "    return dataframe.resample('60S', on=timestamp_name).agg(aggregates)\n",
    "\n",
    "# Return from each room directory a complete dataframe of all the separated features/columns\n",
    "def transform_room_data(path):\n",
    "    columns = ['co2', 'humidity', 'light', 'pir', 'temperature']\n",
    "    df = pd.DataFrame()\n",
    "\n",
    "    for col_name in columns:\n",
    "        filename = os.path.join(path, col_name + '.csv')\n",
    "\n",
    "        df_feature = pd.read_csv(filename, names=['timestamp', col_name], sep=',')\n",
    "\n",
    "        df_sampled = resample_data(df_feature, col_name, 'timestamp')\n",
    "\n",
    "        if (columns.index(col_name) < 1):\n",
    "            df = df_sampled\n",
    "        else:\n",
    "            df[col_name] = df_sampled[col_name]\n",
    "    \n",
    "    df.dropna(subset=columns, inplace=True)\n",
    "\n",
    "    return df\n",
    "\n",
    "# Import, transform and export all data from KETI\n",
    "def import_data(base_path='../../data/SmartBuildingSystem/KETI/*'):\n",
    "    all_room_dirs = glob.glob(base_path)\n",
    "\n",
    "    pattern = re.compile('^[0-9]+$')\n",
    "\n",
    "    all_room_dirs = [f for f in all_room_dirs if pattern.match(f[-3:])]\n",
    "\n",
    "    for room_dir in all_room_dirs:\n",
    "        df = transform_room_data(room_dir)\n",
    "\n",
    "        output_path = '../../data/SmartBuildingSystem/data/' + room_dir[-3:] + '.csv'\n",
    "\n",
    "        df.to_csv(output_path)"
   ]
  },
  {
   "cell_type": "code",
   "execution_count": 6,
   "metadata": {},
   "outputs": [],
   "source": [
    "import_data()"
   ]
  },
  {
   "cell_type": "code",
   "execution_count": 5,
   "metadata": {},
   "outputs": [
    {
     "data": {
      "text/html": [
       "<div>\n",
       "<style scoped>\n",
       "    .dataframe tbody tr th:only-of-type {\n",
       "        vertical-align: middle;\n",
       "    }\n",
       "\n",
       "    .dataframe tbody tr th {\n",
       "        vertical-align: top;\n",
       "    }\n",
       "\n",
       "    .dataframe thead th {\n",
       "        text-align: right;\n",
       "    }\n",
       "</style>\n",
       "<table border=\"1\" class=\"dataframe\">\n",
       "  <thead>\n",
       "    <tr style=\"text-align: right;\">\n",
       "      <th></th>\n",
       "      <th>co2</th>\n",
       "      <th>humidity</th>\n",
       "      <th>light</th>\n",
       "      <th>pir</th>\n",
       "      <th>temperature</th>\n",
       "    </tr>\n",
       "    <tr>\n",
       "      <th>timestamp</th>\n",
       "      <th></th>\n",
       "      <th></th>\n",
       "      <th></th>\n",
       "      <th></th>\n",
       "      <th></th>\n",
       "    </tr>\n",
       "  </thead>\n",
       "  <tbody>\n",
       "    <tr>\n",
       "      <th>2013-08-23 23:05:00</th>\n",
       "      <td>494.727273</td>\n",
       "      <td>45.3300</td>\n",
       "      <td>96.555556</td>\n",
       "      <td>0.0</td>\n",
       "      <td>23.927778</td>\n",
       "    </tr>\n",
       "    <tr>\n",
       "      <th>2013-08-23 23:06:00</th>\n",
       "      <td>496.666667</td>\n",
       "      <td>45.3275</td>\n",
       "      <td>96.833333</td>\n",
       "      <td>0.0</td>\n",
       "      <td>23.938333</td>\n",
       "    </tr>\n",
       "    <tr>\n",
       "      <th>2013-08-23 23:07:00</th>\n",
       "      <td>498.916667</td>\n",
       "      <td>45.3250</td>\n",
       "      <td>97.333333</td>\n",
       "      <td>0.0</td>\n",
       "      <td>23.942500</td>\n",
       "    </tr>\n",
       "    <tr>\n",
       "      <th>2013-08-23 23:08:00</th>\n",
       "      <td>504.166667</td>\n",
       "      <td>45.3125</td>\n",
       "      <td>97.083333</td>\n",
       "      <td>0.0</td>\n",
       "      <td>23.952500</td>\n",
       "    </tr>\n",
       "    <tr>\n",
       "      <th>2013-08-23 23:09:00</th>\n",
       "      <td>499.500000</td>\n",
       "      <td>45.3100</td>\n",
       "      <td>97.416667</td>\n",
       "      <td>0.0</td>\n",
       "      <td>23.955833</td>\n",
       "    </tr>\n",
       "    <tr>\n",
       "      <th>2013-08-23 23:10:00</th>\n",
       "      <td>502.750000</td>\n",
       "      <td>45.3100</td>\n",
       "      <td>97.000000</td>\n",
       "      <td>0.0</td>\n",
       "      <td>23.966667</td>\n",
       "    </tr>\n",
       "    <tr>\n",
       "      <th>2013-08-23 23:11:00</th>\n",
       "      <td>498.333333</td>\n",
       "      <td>45.3100</td>\n",
       "      <td>97.083333</td>\n",
       "      <td>0.0</td>\n",
       "      <td>23.970833</td>\n",
       "    </tr>\n",
       "    <tr>\n",
       "      <th>2013-08-23 23:12:00</th>\n",
       "      <td>509.090909</td>\n",
       "      <td>45.3100</td>\n",
       "      <td>98.083333</td>\n",
       "      <td>0.0</td>\n",
       "      <td>23.978333</td>\n",
       "    </tr>\n",
       "    <tr>\n",
       "      <th>2013-08-23 23:13:00</th>\n",
       "      <td>512.538462</td>\n",
       "      <td>45.3075</td>\n",
       "      <td>98.750000</td>\n",
       "      <td>0.0</td>\n",
       "      <td>23.984167</td>\n",
       "    </tr>\n",
       "    <tr>\n",
       "      <th>2013-08-23 23:14:00</th>\n",
       "      <td>509.250000</td>\n",
       "      <td>45.3075</td>\n",
       "      <td>98.583333</td>\n",
       "      <td>0.0</td>\n",
       "      <td>23.990000</td>\n",
       "    </tr>\n",
       "  </tbody>\n",
       "</table>\n",
       "</div>"
      ],
      "text/plain": [
       "                            co2  humidity      light  pir  temperature\n",
       "timestamp                                                             \n",
       "2013-08-23 23:05:00  494.727273   45.3300  96.555556  0.0    23.927778\n",
       "2013-08-23 23:06:00  496.666667   45.3275  96.833333  0.0    23.938333\n",
       "2013-08-23 23:07:00  498.916667   45.3250  97.333333  0.0    23.942500\n",
       "2013-08-23 23:08:00  504.166667   45.3125  97.083333  0.0    23.952500\n",
       "2013-08-23 23:09:00  499.500000   45.3100  97.416667  0.0    23.955833\n",
       "2013-08-23 23:10:00  502.750000   45.3100  97.000000  0.0    23.966667\n",
       "2013-08-23 23:11:00  498.333333   45.3100  97.083333  0.0    23.970833\n",
       "2013-08-23 23:12:00  509.090909   45.3100  98.083333  0.0    23.978333\n",
       "2013-08-23 23:13:00  512.538462   45.3075  98.750000  0.0    23.984167\n",
       "2013-08-23 23:14:00  509.250000   45.3075  98.583333  0.0    23.990000"
      ]
     },
     "execution_count": 5,
     "metadata": {},
     "output_type": "execute_result"
    }
   ],
   "source": [
    "df_413 = transform_room_data('../../data/SmartBuildingSystem/KETI/413/')\n",
    "df_413.head(10)"
   ]
  },
  {
   "cell_type": "code",
   "execution_count": 34,
   "metadata": {},
   "outputs": [],
   "source": [
    "df_413.dropna(subset=['co2', 'humidity', 'light', 'pir', 'temperature'], inplace=True)"
   ]
  },
  {
   "cell_type": "code",
   "execution_count": 37,
   "metadata": {},
   "outputs": [
    {
     "data": {
      "text/plain": [
       "co2            0\n",
       "humidity       0\n",
       "light          0\n",
       "pir            0\n",
       "temperature    0\n",
       "dtype: int64"
      ]
     },
     "execution_count": 37,
     "metadata": {},
     "output_type": "execute_result"
    }
   ],
   "source": [
    "df_413.isna().sum()"
   ]
  }
 ],
 "metadata": {
  "interpreter": {
   "hash": "43d91c62f5e04c931190bcff90b6028456b5c53954089b8df069d6337588d705"
  },
  "kernelspec": {
   "display_name": "Python 3.8.11 64-bit ('py38': conda)",
   "language": "python",
   "name": "python3"
  },
  "language_info": {
   "codemirror_mode": {
    "name": "ipython",
    "version": 3
   },
   "file_extension": ".py",
   "mimetype": "text/x-python",
   "name": "python",
   "nbconvert_exporter": "python",
   "pygments_lexer": "ipython3",
   "version": "3.8.11"
  },
  "orig_nbformat": 4
 },
 "nbformat": 4,
 "nbformat_minor": 2
}
