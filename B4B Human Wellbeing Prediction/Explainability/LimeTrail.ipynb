{
 "cells": [
  {
   "cell_type": "code",
   "execution_count": 48,
   "metadata": {
    "collapsed": true
   },
   "outputs": [],
   "source": [
    "import matplotlib.pyplot as plt\n",
    "import numpy as np\n",
    "import pandas as pd\n",
    "from sklearn.ensemble import GradientBoostingClassifier\n",
    "from sklearn.feature_selection import VarianceThreshold\n",
    "\n",
    "from sklearn.pipeline import make_pipeline\n",
    "from sklearn.model_selection import train_test_split\n",
    "\n",
    "import lime\n",
    "import lime.lime_tabular\n",
    "# plt.style.use()"
   ]
  },
  {
   "cell_type": "code",
   "execution_count": 22,
   "outputs": [
    {
     "name": "stdout",
     "output_type": "stream",
     "text": [
      "540364\n"
     ]
    },
    {
     "data": {
      "text/plain": "        Unnamed: 0  hour  minute  second  relative_time  temperature  \\\n0           486159    10      59      50            572        22.10   \n1           498156    16       3      36           2795        22.27   \n2           257373     9      30      19           1484        21.42   \n3           380814    14      22      26           6435        23.25   \n4           188312    11      31      54           3339        23.24   \n...            ...   ...     ...     ...            ...          ...   \n540359       32394    11      29      56            236        20.97   \n540360      237009    10      30       2            422        20.75   \n540361        4623    10       4      26           4619        21.08   \n540362      125539    10      27       5           5019        21.15   \n540363      526223    15      10       5            832        22.45   \n\n        mean_temp_day  heatindex  relative_humidity  \\\n0                 3.1  21.453399             37.472   \n1                 3.1  21.690846             41.117   \n2                10.4  21.334467             55.737   \n3                 9.5  22.461804             41.603   \n4                13.0  23.010511             56.993   \n...               ...        ...                ...   \n540359            6.0  20.947466             46.949   \n540360            9.8  20.847739             51.688   \n540361            4.0  20.972212             44.236   \n540362            8.1  21.077712             48.083   \n540363            7.3  21.867306             42.535   \n\n        light_sensor_one_wavelength  light_sensor_two_wavelength  \\\n0                            197.14                        588.8   \n1                            175.71                        437.0   \n2                            205.71                        708.4   \n3                            184.29                        414.0   \n4                            255.71                       1062.6   \n...                             ...                          ...   \n540359                       270.00                       1099.4   \n540360                       188.57                        529.0   \n540361                       182.86                        556.6   \n540362                       250.00                        864.8   \n540363                       311.43                       1265.0   \n\n        number_occupants  activity_occupants  door_state  window_state  \\\n0                      1                   4           0             0   \n1                      0                   0           0             0   \n2                      0                   0           1             0   \n3                      0                   0           0             0   \n4                      2                   4           0             0   \n...                  ...                 ...         ...           ...   \n540359                 0                   0           0             0   \n540360                 0                   0           1             0   \n540361                 2                   1           0             0   \n540362                 2                   1           0             0   \n540363                 0                   0           0             0   \n\n        target  room_A  room_B  room_C  \n0            0       0       0       1  \n1            0       0       0       1  \n2            1       1       0       0  \n3            0       0       1       0  \n4            0       1       0       0  \n...        ...     ...     ...     ...  \n540359       0       1       0       0  \n540360       0       1       0       0  \n540361       0       1       0       0  \n540362       1       1       0       0  \n540363       0       0       0       1  \n\n[540364 rows x 19 columns]",
      "text/html": "<div>\n<style scoped>\n    .dataframe tbody tr th:only-of-type {\n        vertical-align: middle;\n    }\n\n    .dataframe tbody tr th {\n        vertical-align: top;\n    }\n\n    .dataframe thead th {\n        text-align: right;\n    }\n</style>\n<table border=\"1\" class=\"dataframe\">\n  <thead>\n    <tr style=\"text-align: right;\">\n      <th></th>\n      <th>Unnamed: 0</th>\n      <th>hour</th>\n      <th>minute</th>\n      <th>second</th>\n      <th>relative_time</th>\n      <th>temperature</th>\n      <th>mean_temp_day</th>\n      <th>heatindex</th>\n      <th>relative_humidity</th>\n      <th>light_sensor_one_wavelength</th>\n      <th>light_sensor_two_wavelength</th>\n      <th>number_occupants</th>\n      <th>activity_occupants</th>\n      <th>door_state</th>\n      <th>window_state</th>\n      <th>target</th>\n      <th>room_A</th>\n      <th>room_B</th>\n      <th>room_C</th>\n    </tr>\n  </thead>\n  <tbody>\n    <tr>\n      <th>0</th>\n      <td>486159</td>\n      <td>10</td>\n      <td>59</td>\n      <td>50</td>\n      <td>572</td>\n      <td>22.10</td>\n      <td>3.1</td>\n      <td>21.453399</td>\n      <td>37.472</td>\n      <td>197.14</td>\n      <td>588.8</td>\n      <td>1</td>\n      <td>4</td>\n      <td>0</td>\n      <td>0</td>\n      <td>0</td>\n      <td>0</td>\n      <td>0</td>\n      <td>1</td>\n    </tr>\n    <tr>\n      <th>1</th>\n      <td>498156</td>\n      <td>16</td>\n      <td>3</td>\n      <td>36</td>\n      <td>2795</td>\n      <td>22.27</td>\n      <td>3.1</td>\n      <td>21.690846</td>\n      <td>41.117</td>\n      <td>175.71</td>\n      <td>437.0</td>\n      <td>0</td>\n      <td>0</td>\n      <td>0</td>\n      <td>0</td>\n      <td>0</td>\n      <td>0</td>\n      <td>0</td>\n      <td>1</td>\n    </tr>\n    <tr>\n      <th>2</th>\n      <td>257373</td>\n      <td>9</td>\n      <td>30</td>\n      <td>19</td>\n      <td>1484</td>\n      <td>21.42</td>\n      <td>10.4</td>\n      <td>21.334467</td>\n      <td>55.737</td>\n      <td>205.71</td>\n      <td>708.4</td>\n      <td>0</td>\n      <td>0</td>\n      <td>1</td>\n      <td>0</td>\n      <td>1</td>\n      <td>1</td>\n      <td>0</td>\n      <td>0</td>\n    </tr>\n    <tr>\n      <th>3</th>\n      <td>380814</td>\n      <td>14</td>\n      <td>22</td>\n      <td>26</td>\n      <td>6435</td>\n      <td>23.25</td>\n      <td>9.5</td>\n      <td>22.461804</td>\n      <td>41.603</td>\n      <td>184.29</td>\n      <td>414.0</td>\n      <td>0</td>\n      <td>0</td>\n      <td>0</td>\n      <td>0</td>\n      <td>0</td>\n      <td>0</td>\n      <td>1</td>\n      <td>0</td>\n    </tr>\n    <tr>\n      <th>4</th>\n      <td>188312</td>\n      <td>11</td>\n      <td>31</td>\n      <td>54</td>\n      <td>3339</td>\n      <td>23.24</td>\n      <td>13.0</td>\n      <td>23.010511</td>\n      <td>56.993</td>\n      <td>255.71</td>\n      <td>1062.6</td>\n      <td>2</td>\n      <td>4</td>\n      <td>0</td>\n      <td>0</td>\n      <td>0</td>\n      <td>1</td>\n      <td>0</td>\n      <td>0</td>\n    </tr>\n    <tr>\n      <th>...</th>\n      <td>...</td>\n      <td>...</td>\n      <td>...</td>\n      <td>...</td>\n      <td>...</td>\n      <td>...</td>\n      <td>...</td>\n      <td>...</td>\n      <td>...</td>\n      <td>...</td>\n      <td>...</td>\n      <td>...</td>\n      <td>...</td>\n      <td>...</td>\n      <td>...</td>\n      <td>...</td>\n      <td>...</td>\n      <td>...</td>\n      <td>...</td>\n    </tr>\n    <tr>\n      <th>540359</th>\n      <td>32394</td>\n      <td>11</td>\n      <td>29</td>\n      <td>56</td>\n      <td>236</td>\n      <td>20.97</td>\n      <td>6.0</td>\n      <td>20.947466</td>\n      <td>46.949</td>\n      <td>270.00</td>\n      <td>1099.4</td>\n      <td>0</td>\n      <td>0</td>\n      <td>0</td>\n      <td>0</td>\n      <td>0</td>\n      <td>1</td>\n      <td>0</td>\n      <td>0</td>\n    </tr>\n    <tr>\n      <th>540360</th>\n      <td>237009</td>\n      <td>10</td>\n      <td>30</td>\n      <td>2</td>\n      <td>422</td>\n      <td>20.75</td>\n      <td>9.8</td>\n      <td>20.847739</td>\n      <td>51.688</td>\n      <td>188.57</td>\n      <td>529.0</td>\n      <td>0</td>\n      <td>0</td>\n      <td>1</td>\n      <td>0</td>\n      <td>0</td>\n      <td>1</td>\n      <td>0</td>\n      <td>0</td>\n    </tr>\n    <tr>\n      <th>540361</th>\n      <td>4623</td>\n      <td>10</td>\n      <td>4</td>\n      <td>26</td>\n      <td>4619</td>\n      <td>21.08</td>\n      <td>4.0</td>\n      <td>20.972212</td>\n      <td>44.236</td>\n      <td>182.86</td>\n      <td>556.6</td>\n      <td>2</td>\n      <td>1</td>\n      <td>0</td>\n      <td>0</td>\n      <td>0</td>\n      <td>1</td>\n      <td>0</td>\n      <td>0</td>\n    </tr>\n    <tr>\n      <th>540362</th>\n      <td>125539</td>\n      <td>10</td>\n      <td>27</td>\n      <td>5</td>\n      <td>5019</td>\n      <td>21.15</td>\n      <td>8.1</td>\n      <td>21.077712</td>\n      <td>48.083</td>\n      <td>250.00</td>\n      <td>864.8</td>\n      <td>2</td>\n      <td>1</td>\n      <td>0</td>\n      <td>0</td>\n      <td>1</td>\n      <td>1</td>\n      <td>0</td>\n      <td>0</td>\n    </tr>\n    <tr>\n      <th>540363</th>\n      <td>526223</td>\n      <td>15</td>\n      <td>10</td>\n      <td>5</td>\n      <td>832</td>\n      <td>22.45</td>\n      <td>7.3</td>\n      <td>21.867306</td>\n      <td>42.535</td>\n      <td>311.43</td>\n      <td>1265.0</td>\n      <td>0</td>\n      <td>0</td>\n      <td>0</td>\n      <td>0</td>\n      <td>0</td>\n      <td>0</td>\n      <td>0</td>\n      <td>1</td>\n    </tr>\n  </tbody>\n</table>\n<p>540364 rows × 19 columns</p>\n</div>"
     },
     "execution_count": 22,
     "metadata": {},
     "output_type": "execute_result"
    }
   ],
   "source": [
    "df = pd.read_csv(\"../datasets/09-12-2021_20-48-36.csv\")\n",
    "print(len(df))\n",
    "df"
   ],
   "metadata": {
    "collapsed": false,
    "pycharm": {
     "name": "#%%\n"
    }
   }
  },
  {
   "cell_type": "code",
   "execution_count": 7,
   "outputs": [],
   "source": [
    "# NOTE: Make sure that the outcome column is labeled 'target' in the data file\n",
    "tpot_data = pd.read_csv('../datasets/09-12-2021_20-48-36.csv', sep=',', dtype=np.float64)\n",
    "features = tpot_data.drop('target', axis=1)\n",
    "training_features, testing_features, training_target, testing_target = train_test_split(features, tpot_data['target'], random_state=None)\n",
    "\n",
    "# Average CV score on the training set was: 0.9985074626865671\n",
    "exported_pipeline = make_pipeline(\n",
    "    VarianceThreshold(threshold=0.005),\n",
    "    GradientBoostingClassifier(learning_rate=0.5, max_depth=8, max_features=0.45, min_samples_leaf=5, min_samples_split=18, n_estimators=100, subsample=0.9000000000000001)\n",
    ")\n",
    "exported_pipeline.fit(training_features, training_target)\n",
    "results = exported_pipeline.predict(testing_features)"
   ],
   "metadata": {
    "collapsed": false,
    "pycharm": {
     "name": "#%%\n"
    }
   }
  },
  {
   "cell_type": "code",
   "execution_count": 30,
   "outputs": [
    {
     "data": {
      "text/plain": "array([0., 0., 1., ..., 0., 0., 0.])"
     },
     "execution_count": 30,
     "metadata": {},
     "output_type": "execute_result"
    }
   ],
   "source": [
    "results"
   ],
   "metadata": {
    "collapsed": false,
    "pycharm": {
     "name": "#%%\n"
    }
   }
  },
  {
   "cell_type": "code",
   "execution_count": 41,
   "outputs": [],
   "source": [
    "def prob(data):\n",
    "    return np.array(list(zip(1-exported_pipeline.predict(data),exported_pipeline.predict(data))))"
   ],
   "metadata": {
    "collapsed": false,
    "pycharm": {
     "name": "#%%\n"
    }
   }
  },
  {
   "cell_type": "code",
   "execution_count": 42,
   "outputs": [],
   "source": [
    "explainer = lime.lime_tabular.LimeTabularExplainer(features.astype(float).values,\n",
    "                                                    mode='classification',training_labels=df['target'],feature_names=features.columns)\n"
   ],
   "metadata": {
    "collapsed": false,
    "pycharm": {
     "name": "#%%\n"
    }
   }
  },
  {
   "cell_type": "code",
   "execution_count": 34,
   "outputs": [
    {
     "data": {
      "text/plain": "(540364, 19)"
     },
     "execution_count": 34,
     "metadata": {},
     "output_type": "execute_result"
    }
   ],
   "source": [
    "df.astype(float).values.shape"
   ],
   "metadata": {
    "collapsed": false,
    "pycharm": {
     "name": "#%%\n"
    }
   }
  },
  {
   "cell_type": "markdown",
   "source": [],
   "metadata": {
    "collapsed": false
   }
  },
  {
   "cell_type": "code",
   "execution_count": 46,
   "outputs": [],
   "source": [
    "exp = explainer.explain_instance(features.iloc[1], exported_pipeline.predict_proba)"
   ],
   "metadata": {
    "collapsed": false,
    "pycharm": {
     "name": "#%%\n"
    }
   }
  },
  {
   "cell_type": "code",
   "execution_count": 54,
   "outputs": [
    {
     "data": {
      "text/plain": "<Figure size 432x288 with 1 Axes>",
      "image/png": "[encoded data removed]"
     },
     "metadata": {
      "needs_background": "dark"
     },
     "output_type": "display_data"
    }
   ],
   "source": [
    "%matplotlib inline\n",
    "fig = exp.as_pyplot_figure()\n",
    "exp.save_to_file('./tmp/oi.html')"
   ],
   "metadata": {
    "collapsed": false,
    "pycharm": {
     "name": "#%%\n"
    }
   }
  },
  {
   "cell_type": "code",
   "execution_count": 47,
   "outputs": [
    {
     "name": "stdout",
     "output_type": "stream",
     "text": [
      "Unnamed: 0\n",
      "hour\n",
      "minute\n",
      "second\n",
      "relative_time\n",
      "temperature\n",
      "mean_temp_day\n",
      "heatindex\n",
      "relative_humidity\n",
      "light_sensor_one_wavelength\n",
      "light_sensor_two_wavelength\n",
      "number_occupants\n",
      "activity_occupants\n",
      "door_state\n",
      "window_state\n",
      "room_A\n",
      "room_B\n",
      "room_C\n"
     ]
    }
   ],
   "source": [
    "for col in features.columns:\n",
    "    print(col)"
   ],
   "metadata": {
    "collapsed": false,
    "pycharm": {
     "name": "#%%\n"
    }
   }
  },
  {
   "cell_type": "code",
   "execution_count": null,
   "outputs": [],
   "source": [],
   "metadata": {
    "collapsed": false,
    "pycharm": {
     "name": "#%%\n"
    }
   }
  }
 ],
 "metadata": {
  "kernelspec": {
   "display_name": "Python 3",
   "language": "python",
   "name": "python3"
  },
  "language_info": {
   "codemirror_mode": {
    "name": "ipython",
    "version": 2
   },
   "file_extension": ".py",
   "mimetype": "text/x-python",
   "name": "python",
   "nbconvert_exporter": "python",
   "pygments_lexer": "ipython2",
   "version": "2.7.6"
  }
 },
 "nbformat": 4,
 "nbformat_minor": 0
}