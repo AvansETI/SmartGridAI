{
 "cells": [
  {
   "cell_type": "code",
   "execution_count": 5,
   "outputs": [],
   "source": [
    "import pandas as pd\n",
    "from pathlib import Path"
   ],
   "metadata": {
    "collapsed": false,
    "pycharm": {
     "name": "#%%\n"
    }
   }
  },
  {
   "cell_type": "code",
   "execution_count": 6,
   "outputs": [],
   "source": [
    "headers = [\n",
    "    \"EntryId\",\n",
    "    \"AbsoluteTime\",\n",
    "    \"RelativeTime\",\n",
    "    \"NodeId\",\n",
    "    \"Temperature\",\n",
    "    \"RelativeHumidity\",\n",
    "    \"LightSensorOneWaveLength\",\n",
    "    \"LightSensorTwoWaveLength\",\n",
    "    \"NumberOfOccupants\",\n",
    "    \"ActivityOfOccupants\",\n",
    "    \"StateOfDoor\",\n",
    "    \"StateOfWindow\"]\n",
    "\n",
    "data_frames = []\n",
    "locations = [(\"datasets-location_A/\", \"A\"), (\"datasets-location_B/\", \"B\"), (\"datasets-location_C/\", \"C\")]\n",
    "for location in locations:\n",
    "    path_list = Path(location[0]).glob('**/*.csv')\n",
    "    for path in path_list:\n",
    "        new_dataframe = pd.read_csv(str(path), names=headers)\n",
    "        new_dataframe['Room'] = strings = [location[1] for i in range(len(new_dataframe))]\n",
    "        data_frames.append(new_dataframe)\n",
    "df = pd.concat(data_frames, axis=0, ignore_index=True)"
   ],
   "metadata": {
    "collapsed": false,
    "pycharm": {
     "name": "#%%\n"
    }
   }
  },
  {
   "cell_type": "code",
   "execution_count": 7,
   "outputs": [
    {
     "data": {
      "text/plain": "   EntryId   AbsoluteTime  RelativeTime  NodeId  Temperature  \\\n0        1  1458031648545             1       1        20.48   \n1        2  1458031648645             1       4        20.73   \n2        3  1458031648795             1       3        20.48   \n3        4  1458031651038             3       2        20.89   \n4        5  1458031652010             4       4        20.73   \n\n   RelativeHumidity  LightSensorOneWaveLength  LightSensorTwoWaveLength  \\\n0            42.332                    185.71                     492.2   \n1            39.983                    214.29                     657.8   \n2            38.687                    197.14                     542.8   \n3            40.712                    174.29                     552.0   \n4            39.983                    211.43                     653.2   \n\n   NumberOfOccupants  ActivityOfOccupants  StateOfDoor  StateOfWindow Room  \n0                  0                    0            0              0    A  \n1                  0                    0            0              0    A  \n2                  0                    0            0              0    A  \n3                  0                    0            0              0    A  \n4                  0                    0            0              0    A  ",
      "text/html": "<div>\n<style scoped>\n    .dataframe tbody tr th:only-of-type {\n        vertical-align: middle;\n    }\n\n    .dataframe tbody tr th {\n        vertical-align: top;\n    }\n\n    .dataframe thead th {\n        text-align: right;\n    }\n</style>\n<table border=\"1\" class=\"dataframe\">\n  <thead>\n    <tr style=\"text-align: right;\">\n      <th></th>\n      <th>EntryId</th>\n      <th>AbsoluteTime</th>\n      <th>RelativeTime</th>\n      <th>NodeId</th>\n      <th>Temperature</th>\n      <th>RelativeHumidity</th>\n      <th>LightSensorOneWaveLength</th>\n      <th>LightSensorTwoWaveLength</th>\n      <th>NumberOfOccupants</th>\n      <th>ActivityOfOccupants</th>\n      <th>StateOfDoor</th>\n      <th>StateOfWindow</th>\n      <th>Room</th>\n    </tr>\n  </thead>\n  <tbody>\n    <tr>\n      <th>0</th>\n      <td>1</td>\n      <td>1458031648545</td>\n      <td>1</td>\n      <td>1</td>\n      <td>20.48</td>\n      <td>42.332</td>\n      <td>185.71</td>\n      <td>492.2</td>\n      <td>0</td>\n      <td>0</td>\n      <td>0</td>\n      <td>0</td>\n      <td>A</td>\n    </tr>\n    <tr>\n      <th>1</th>\n      <td>2</td>\n      <td>1458031648645</td>\n      <td>1</td>\n      <td>4</td>\n      <td>20.73</td>\n      <td>39.983</td>\n      <td>214.29</td>\n      <td>657.8</td>\n      <td>0</td>\n      <td>0</td>\n      <td>0</td>\n      <td>0</td>\n      <td>A</td>\n    </tr>\n    <tr>\n      <th>2</th>\n      <td>3</td>\n      <td>1458031648795</td>\n      <td>1</td>\n      <td>3</td>\n      <td>20.48</td>\n      <td>38.687</td>\n      <td>197.14</td>\n      <td>542.8</td>\n      <td>0</td>\n      <td>0</td>\n      <td>0</td>\n      <td>0</td>\n      <td>A</td>\n    </tr>\n    <tr>\n      <th>3</th>\n      <td>4</td>\n      <td>1458031651038</td>\n      <td>3</td>\n      <td>2</td>\n      <td>20.89</td>\n      <td>40.712</td>\n      <td>174.29</td>\n      <td>552.0</td>\n      <td>0</td>\n      <td>0</td>\n      <td>0</td>\n      <td>0</td>\n      <td>A</td>\n    </tr>\n    <tr>\n      <th>4</th>\n      <td>5</td>\n      <td>1458031652010</td>\n      <td>4</td>\n      <td>4</td>\n      <td>20.73</td>\n      <td>39.983</td>\n      <td>211.43</td>\n      <td>653.2</td>\n      <td>0</td>\n      <td>0</td>\n      <td>0</td>\n      <td>0</td>\n      <td>A</td>\n    </tr>\n  </tbody>\n</table>\n</div>"
     },
     "execution_count": 7,
     "metadata": {},
     "output_type": "execute_result"
    }
   ],
   "source": [
    "df.head()"
   ],
   "metadata": {
    "collapsed": false,
    "pycharm": {
     "name": "#%%\n"
    }
   }
  },
  {
   "cell_type": "code",
   "execution_count": 8,
   "outputs": [],
   "source": [
    "df.to_csv('extracted.csv', index=False)"
   ],
   "metadata": {
    "collapsed": false,
    "pycharm": {
     "name": "#%%\n"
    }
   }
  }
 ],
 "metadata": {
  "kernelspec": {
   "display_name": "Python 3",
   "language": "python",
   "name": "python3"
  },
  "language_info": {
   "codemirror_mode": {
    "name": "ipython",
    "version": 2
   },
   "file_extension": ".py",
   "mimetype": "text/x-python",
   "name": "python",
   "nbconvert_exporter": "python",
   "pygments_lexer": "ipython2",
   "version": "2.7.6"
  }
 },
 "nbformat": 4,
 "nbformat_minor": 0
}