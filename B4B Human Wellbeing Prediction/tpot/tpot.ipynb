{
 "cells": [
  {
   "cell_type": "code",
   "execution_count": 102,
   "metadata": {
    "collapsed": true
   },
   "outputs": [],
   "source": [
    "from copy import copy\n",
    "from datetime import datetime\n",
    "\n",
    "import pandas as pd\n",
    "from sklearn.model_selection import train_test_split\n",
    "from sklearn.utils import shuffle\n",
    "from tpot import TPOTClassifier"
   ]
  },
  {
   "cell_type": "code",
   "execution_count": 77,
   "outputs": [
    {
     "data": {
      "text/plain": "   EntryId  NodeId   AbsoluteTime  RelativeTime    Datetime  Temperature  \\\n0        1       1  1458031648545             1  15/03/2016        20.48   \n1        2       4  1458031648645             1  15/03/2016        20.73   \n2        3       3  1458031648795             1  15/03/2016        20.48   \n3        4       2  1458031651038             3  15/03/2016        20.89   \n4        5       4  1458031652010             4  15/03/2016        20.73   \n\n   MeanTempDay  HeatIndex  RelativeHumidity  LightSensorOneWaveLength  ...  \\\n0          8.6  20.587526            42.332                    185.71  ...   \n1          8.6  20.674882            39.983                    214.29  ...   \n2          8.6  20.504889            38.687                    197.14  ...   \n3          8.6  20.783859            40.712                    174.29  ...   \n4          8.6  20.674882            39.983                    211.43  ...   \n\n   ActivityOfOccupants  StateOfDoor  StateOfWindow  acceptability_80  \\\n0                    0            0              0                 0   \n1                    0            0              0                 0   \n2                    0            0              0                 0   \n3                    0            0              0                 0   \n4                    0            0              0                 0   \n\n   acceptability_90  tmp_cmf  tmp_cmf_80_low  tmp_cmf_80_up  tmp_cmf_90_low  \\\n0                 0     20.9            21.1           22.5            21.1   \n1                 0     20.9            21.1           22.5            21.1   \n2                 0     20.9            21.1           22.5            21.1   \n3                 0     20.9            21.1           22.5            21.1   \n4                 0     20.9            21.1           22.5            21.1   \n\n   tmp_cmf_90_up  \n0           21.9  \n1           21.9  \n2           21.9  \n3           21.9  \n4           21.9  \n\n[5 rows x 22 columns]",
      "text/html": "<div>\n<style scoped>\n    .dataframe tbody tr th:only-of-type {\n        vertical-align: middle;\n    }\n\n    .dataframe tbody tr th {\n        vertical-align: top;\n    }\n\n    .dataframe thead th {\n        text-align: right;\n    }\n</style>\n<table border=\"1\" class=\"dataframe\">\n  <thead>\n    <tr style=\"text-align: right;\">\n      <th></th>\n      <th>EntryId</th>\n      <th>NodeId</th>\n      <th>AbsoluteTime</th>\n      <th>RelativeTime</th>\n      <th>Datetime</th>\n      <th>Temperature</th>\n      <th>MeanTempDay</th>\n      <th>HeatIndex</th>\n      <th>RelativeHumidity</th>\n      <th>LightSensorOneWaveLength</th>\n      <th>...</th>\n      <th>ActivityOfOccupants</th>\n      <th>StateOfDoor</th>\n      <th>StateOfWindow</th>\n      <th>acceptability_80</th>\n      <th>acceptability_90</th>\n      <th>tmp_cmf</th>\n      <th>tmp_cmf_80_low</th>\n      <th>tmp_cmf_80_up</th>\n      <th>tmp_cmf_90_low</th>\n      <th>tmp_cmf_90_up</th>\n    </tr>\n  </thead>\n  <tbody>\n    <tr>\n      <th>0</th>\n      <td>1</td>\n      <td>1</td>\n      <td>1458031648545</td>\n      <td>1</td>\n      <td>15/03/2016</td>\n      <td>20.48</td>\n      <td>8.6</td>\n      <td>20.587526</td>\n      <td>42.332</td>\n      <td>185.71</td>\n      <td>...</td>\n      <td>0</td>\n      <td>0</td>\n      <td>0</td>\n      <td>0</td>\n      <td>0</td>\n      <td>20.9</td>\n      <td>21.1</td>\n      <td>22.5</td>\n      <td>21.1</td>\n      <td>21.9</td>\n    </tr>\n    <tr>\n      <th>1</th>\n      <td>2</td>\n      <td>4</td>\n      <td>1458031648645</td>\n      <td>1</td>\n      <td>15/03/2016</td>\n      <td>20.73</td>\n      <td>8.6</td>\n      <td>20.674882</td>\n      <td>39.983</td>\n      <td>214.29</td>\n      <td>...</td>\n      <td>0</td>\n      <td>0</td>\n      <td>0</td>\n      <td>0</td>\n      <td>0</td>\n      <td>20.9</td>\n      <td>21.1</td>\n      <td>22.5</td>\n      <td>21.1</td>\n      <td>21.9</td>\n    </tr>\n    <tr>\n      <th>2</th>\n      <td>3</td>\n      <td>3</td>\n      <td>1458031648795</td>\n      <td>1</td>\n      <td>15/03/2016</td>\n      <td>20.48</td>\n      <td>8.6</td>\n      <td>20.504889</td>\n      <td>38.687</td>\n      <td>197.14</td>\n      <td>...</td>\n      <td>0</td>\n      <td>0</td>\n      <td>0</td>\n      <td>0</td>\n      <td>0</td>\n      <td>20.9</td>\n      <td>21.1</td>\n      <td>22.5</td>\n      <td>21.1</td>\n      <td>21.9</td>\n    </tr>\n    <tr>\n      <th>3</th>\n      <td>4</td>\n      <td>2</td>\n      <td>1458031651038</td>\n      <td>3</td>\n      <td>15/03/2016</td>\n      <td>20.89</td>\n      <td>8.6</td>\n      <td>20.783859</td>\n      <td>40.712</td>\n      <td>174.29</td>\n      <td>...</td>\n      <td>0</td>\n      <td>0</td>\n      <td>0</td>\n      <td>0</td>\n      <td>0</td>\n      <td>20.9</td>\n      <td>21.1</td>\n      <td>22.5</td>\n      <td>21.1</td>\n      <td>21.9</td>\n    </tr>\n    <tr>\n      <th>4</th>\n      <td>5</td>\n      <td>4</td>\n      <td>1458031652010</td>\n      <td>4</td>\n      <td>15/03/2016</td>\n      <td>20.73</td>\n      <td>8.6</td>\n      <td>20.674882</td>\n      <td>39.983</td>\n      <td>211.43</td>\n      <td>...</td>\n      <td>0</td>\n      <td>0</td>\n      <td>0</td>\n      <td>0</td>\n      <td>0</td>\n      <td>20.9</td>\n      <td>21.1</td>\n      <td>22.5</td>\n      <td>21.1</td>\n      <td>21.9</td>\n    </tr>\n  </tbody>\n</table>\n<p>5 rows × 22 columns</p>\n</div>"
     },
     "execution_count": 77,
     "metadata": {},
     "output_type": "execute_result"
    }
   ],
   "source": [
    "df = pd.read_csv(\"../dataset.csv\")\n",
    "df.head()"
   ],
   "metadata": {
    "collapsed": false,
    "pycharm": {
     "name": "#%%\n"
    }
   }
  },
  {
   "cell_type": "code",
   "execution_count": 78,
   "outputs": [
    {
     "name": "stdout",
     "output_type": "stream",
     "text": [
      "<class 'pandas.core.frame.DataFrame'>\n",
      "RangeIndex: 531242 entries, 0 to 531241\n",
      "Data columns (total 22 columns):\n",
      " #   Column                    Non-Null Count   Dtype  \n",
      "---  ------                    --------------   -----  \n",
      " 0   EntryId                   531242 non-null  int64  \n",
      " 1   NodeId                    531242 non-null  int64  \n",
      " 2   AbsoluteTime              531242 non-null  int64  \n",
      " 3   RelativeTime              531242 non-null  int64  \n",
      " 4   Datetime                  531242 non-null  object \n",
      " 5   Temperature               531242 non-null  float64\n",
      " 6   MeanTempDay               531242 non-null  float64\n",
      " 7   HeatIndex                 531242 non-null  float64\n",
      " 8   RelativeHumidity          531242 non-null  float64\n",
      " 9   LightSensorOneWaveLength  531242 non-null  float64\n",
      " 10  LightSensorTwoWaveLength  531242 non-null  float64\n",
      " 11  NumberOfOccupants         531242 non-null  int64  \n",
      " 12  ActivityOfOccupants       531242 non-null  int64  \n",
      " 13  StateOfDoor               531242 non-null  int64  \n",
      " 14  StateOfWindow             531242 non-null  int64  \n",
      " 15  acceptability_80          531242 non-null  int64  \n",
      " 16  acceptability_90          531242 non-null  int64  \n",
      " 17  tmp_cmf                   531242 non-null  float64\n",
      " 18  tmp_cmf_80_low            531242 non-null  float64\n",
      " 19  tmp_cmf_80_up             531242 non-null  float64\n",
      " 20  tmp_cmf_90_low            531242 non-null  float64\n",
      " 21  tmp_cmf_90_up             531242 non-null  float64\n",
      "dtypes: float64(11), int64(10), object(1)\n",
      "memory usage: 89.2+ MB\n"
     ]
    }
   ],
   "source": [
    "df.info()"
   ],
   "metadata": {
    "collapsed": false,
    "pycharm": {
     "name": "#%%\n"
    }
   }
  },
  {
   "cell_type": "code",
   "execution_count": 79,
   "outputs": [],
   "source": [
    "df = shuffle(df)"
   ],
   "metadata": {
    "collapsed": false,
    "pycharm": {
     "name": "#%%\n"
    }
   }
  },
  {
   "cell_type": "code",
   "execution_count": 80,
   "outputs": [],
   "source": [
    "# target_name = \"acceptability_80\"\n",
    "# target_name = \"acceptability_90\"\n",
    "# target_name = \"tmp_cmf\"\n",
    "# target_name = \"tmp_cmf_80_low\"\n",
    "# target_name = \"tmp_cmf_80_up\"\n",
    "# target_name = \"tmp_cmf_80_low\"\n",
    "# target_name = \"tmp_cmf_90_up\"\n",
    "# target_name = \"tmp_cmf_90_low\"\n",
    "target_name = \"acceptability_90\""
   ],
   "metadata": {
    "collapsed": false,
    "pycharm": {
     "name": "#%%\n"
    }
   }
  },
  {
   "cell_type": "code",
   "execution_count": 81,
   "outputs": [],
   "source": [
    "df.rename(columns={target_name: 'target'}, inplace=True)\n",
    "\n",
    "df['AbsoluteTime'] = pd.to_datetime(df['AbsoluteTime'], unit='ms')\n",
    "\n",
    "df['hour'] = df['AbsoluteTime'].dt.hour\n",
    "df['minute'] = df['AbsoluteTime'].dt.minute\n",
    "df['second'] = df['AbsoluteTime'].dt.second"
   ],
   "metadata": {
    "collapsed": false,
    "pycharm": {
     "name": "#%%\n"
    }
   }
  },
  {
   "cell_type": "code",
   "execution_count": 82,
   "outputs": [
    {
     "data": {
      "text/plain": "Index(['EntryId', 'NodeId', 'AbsoluteTime', 'RelativeTime', 'Datetime',\n       'Temperature', 'MeanTempDay', 'HeatIndex', 'RelativeHumidity',\n       'LightSensorOneWaveLength', 'LightSensorTwoWaveLength',\n       'NumberOfOccupants', 'ActivityOfOccupants', 'StateOfDoor',\n       'StateOfWindow', 'acceptability_80', 'target', 'tmp_cmf',\n       'tmp_cmf_80_low', 'tmp_cmf_80_up', 'tmp_cmf_90_low', 'tmp_cmf_90_up',\n       'hour', 'minute', 'second'],\n      dtype='object')"
     },
     "execution_count": 82,
     "metadata": {},
     "output_type": "execute_result"
    }
   ],
   "source": [
    "df.columns"
   ],
   "metadata": {
    "collapsed": false,
    "pycharm": {
     "name": "#%%\n"
    }
   }
  },
  {
   "cell_type": "code",
   "execution_count": 105,
   "outputs": [],
   "source": [
    "features = [\n",
    "    'Temperature',\n",
    "    'MeanTempDay',\n",
    "    'HeatIndex',\n",
    "    'RelativeHumidity',\n",
    "    'LightSensorOneWaveLength',\n",
    "    'LightSensorTwoWaveLength',\n",
    "    'NumberOfOccupants',\n",
    "    'ActivityOfOccupants',\n",
    "    'StateOfDoor',\n",
    "    'hour',\n",
    "    'minute',\n",
    "    'second',\n",
    "]"
   ],
   "metadata": {
    "collapsed": false,
    "pycharm": {
     "name": "#%%\n"
    }
   }
  },
  {
   "cell_type": "code",
   "execution_count": 84,
   "outputs": [],
   "source": [
    "y = df['target']\n",
    "X = df[features]"
   ],
   "metadata": {
    "collapsed": false,
    "pycharm": {
     "name": "#%%\n"
    }
   }
  },
  {
   "cell_type": "code",
   "execution_count": 112,
   "outputs": [],
   "source": [
    "export_features = copy(features)\n",
    "export_features.append('target')\n",
    "\n",
    "df[export_features].to_csv(\"processed_data.csv\")"
   ],
   "metadata": {
    "collapsed": false,
    "pycharm": {
     "name": "#%%\n"
    }
   }
  },
  {
   "cell_type": "code",
   "execution_count": 59,
   "outputs": [],
   "source": [
    "X_train, X_test, y_train, y_test = train_test_split(X, y, stratify=y.values, test_size=0.33)"
   ],
   "metadata": {
    "collapsed": false,
    "pycharm": {
     "name": "#%%\n"
    }
   }
  },
  {
   "cell_type": "code",
   "execution_count": 35,
   "outputs": [],
   "source": [
    "pipeline_optimizer = TPOTClassifier(generations=5, n_jobs=-1, early_stop=3, verbosity=3)"
   ],
   "metadata": {
    "collapsed": false,
    "pycharm": {
     "name": "#%%\n"
    }
   }
  },
  {
   "cell_type": "code",
   "execution_count": 46,
   "outputs": [
    {
     "data": {
      "text/plain": "Optimization Progress:   0%|          | 0/1100 [00:00<?, ?pipeline/s]",
      "application/vnd.jupyter.widget-view+json": {
       "version_major": 2,
       "version_minor": 0,
       "model_id": "42ad2815bbf74323ae19acabc35aa1c0"
      }
     },
     "metadata": {},
     "output_type": "display_data"
    },
    {
     "name": "stdout",
     "output_type": "stream",
     "text": [
      "\n",
      "\n",
      "TPOT closed during evaluation in one generation.\n",
      "WARNING: TPOT may not provide a good pipeline if TPOT is stopped/interrupted in a early generation.\n",
      "\n",
      "\n",
      "TPOT closed prematurely. Will use the current best pipeline.\n"
     ]
    },
    {
     "ename": "RuntimeError",
     "evalue": "A pipeline has not yet been optimized. Please call fit() first.",
     "output_type": "error",
     "traceback": [
      "\u001B[0;31m---------------------------------------------------------------------------\u001B[0m",
      "\u001B[0;31mRuntimeError\u001B[0m                              Traceback (most recent call last)",
      "\u001B[0;32m/tmp/ipykernel_61009/773551394.py\u001B[0m in \u001B[0;36m<module>\u001B[0;34m\u001B[0m\n\u001B[0;32m----> 1\u001B[0;31m \u001B[0mpipeline_optimizer\u001B[0m\u001B[0;34m.\u001B[0m\u001B[0mfit\u001B[0m\u001B[0;34m(\u001B[0m\u001B[0mX_train\u001B[0m\u001B[0;34m,\u001B[0m \u001B[0my_train\u001B[0m\u001B[0;34m)\u001B[0m\u001B[0;34m\u001B[0m\u001B[0;34m\u001B[0m\u001B[0m\n\u001B[0m",
      "\u001B[0;32m~/PycharmProjects/SmartGridAI/venv/lib/python3.9/site-packages/tpot/base.py\u001B[0m in \u001B[0;36mfit\u001B[0;34m(self, features, target, sample_weight, groups)\u001B[0m\n\u001B[1;32m    861\u001B[0m                     \u001B[0;31m# raise the exception if it's our last attempt\u001B[0m\u001B[0;34m\u001B[0m\u001B[0;34m\u001B[0m\u001B[0m\n\u001B[1;32m    862\u001B[0m                     \u001B[0;32mif\u001B[0m \u001B[0mattempt\u001B[0m \u001B[0;34m==\u001B[0m \u001B[0;34m(\u001B[0m\u001B[0mattempts\u001B[0m \u001B[0;34m-\u001B[0m \u001B[0;36m1\u001B[0m\u001B[0;34m)\u001B[0m\u001B[0;34m:\u001B[0m\u001B[0;34m\u001B[0m\u001B[0;34m\u001B[0m\u001B[0m\n\u001B[0;32m--> 863\u001B[0;31m                         \u001B[0;32mraise\u001B[0m \u001B[0me\u001B[0m\u001B[0;34m\u001B[0m\u001B[0;34m\u001B[0m\u001B[0m\n\u001B[0m\u001B[1;32m    864\u001B[0m             \u001B[0;32mreturn\u001B[0m \u001B[0mself\u001B[0m\u001B[0;34m\u001B[0m\u001B[0;34m\u001B[0m\u001B[0m\n\u001B[1;32m    865\u001B[0m \u001B[0;34m\u001B[0m\u001B[0m\n",
      "\u001B[0;32m~/PycharmProjects/SmartGridAI/venv/lib/python3.9/site-packages/tpot/base.py\u001B[0m in \u001B[0;36mfit\u001B[0;34m(self, features, target, sample_weight, groups)\u001B[0m\n\u001B[1;32m    852\u001B[0m                         \u001B[0mself\u001B[0m\u001B[0;34m.\u001B[0m\u001B[0m_pbar\u001B[0m\u001B[0;34m.\u001B[0m\u001B[0mclose\u001B[0m\u001B[0;34m(\u001B[0m\u001B[0;34m)\u001B[0m\u001B[0;34m\u001B[0m\u001B[0;34m\u001B[0m\u001B[0m\n\u001B[1;32m    853\u001B[0m \u001B[0;34m\u001B[0m\u001B[0m\n\u001B[0;32m--> 854\u001B[0;31m                     \u001B[0mself\u001B[0m\u001B[0;34m.\u001B[0m\u001B[0m_update_top_pipeline\u001B[0m\u001B[0;34m(\u001B[0m\u001B[0;34m)\u001B[0m\u001B[0;34m\u001B[0m\u001B[0;34m\u001B[0m\u001B[0m\n\u001B[0m\u001B[1;32m    855\u001B[0m                     \u001B[0mself\u001B[0m\u001B[0;34m.\u001B[0m\u001B[0m_summary_of_best_pipeline\u001B[0m\u001B[0;34m(\u001B[0m\u001B[0mfeatures\u001B[0m\u001B[0;34m,\u001B[0m \u001B[0mtarget\u001B[0m\u001B[0;34m)\u001B[0m\u001B[0;34m\u001B[0m\u001B[0;34m\u001B[0m\u001B[0m\n\u001B[1;32m    856\u001B[0m                     \u001B[0;31m# Delete the temporary cache before exiting\u001B[0m\u001B[0;34m\u001B[0m\u001B[0;34m\u001B[0m\u001B[0m\n",
      "\u001B[0;32m~/PycharmProjects/SmartGridAI/venv/lib/python3.9/site-packages/tpot/base.py\u001B[0m in \u001B[0;36m_update_top_pipeline\u001B[0;34m(self)\u001B[0m\n\u001B[1;32m    959\u001B[0m             \u001B[0;31m# If user passes CTRL+C in initial generation, self._pareto_front (halloffame) shoule be not updated yet.\u001B[0m\u001B[0;34m\u001B[0m\u001B[0;34m\u001B[0m\u001B[0m\n\u001B[1;32m    960\u001B[0m             \u001B[0;31m# need raise RuntimeError because no pipeline has been optimized\u001B[0m\u001B[0;34m\u001B[0m\u001B[0;34m\u001B[0m\u001B[0m\n\u001B[0;32m--> 961\u001B[0;31m             raise RuntimeError(\n\u001B[0m\u001B[1;32m    962\u001B[0m                 \u001B[0;34m\"A pipeline has not yet been optimized. Please call fit() first.\"\u001B[0m\u001B[0;34m\u001B[0m\u001B[0;34m\u001B[0m\u001B[0m\n\u001B[1;32m    963\u001B[0m             )\n",
      "\u001B[0;31mRuntimeError\u001B[0m: A pipeline has not yet been optimized. Please call fit() first."
     ]
    }
   ],
   "source": [
    "pipeline_optimizer.fit(X_train, y_train)"
   ],
   "metadata": {
    "collapsed": false,
    "pycharm": {
     "name": "#%%\n"
    }
   }
  },
  {
   "cell_type": "code",
   "execution_count": 40,
   "outputs": [
    {
     "data": {
      "text/plain": "0.9999942958188353"
     },
     "execution_count": 40,
     "metadata": {},
     "output_type": "execute_result"
    }
   ],
   "source": [
    "score = pipeline_optimizer.score(X_test, y_test)\n",
    "score"
   ],
   "metadata": {
    "collapsed": false,
    "pycharm": {
     "name": "#%%\n"
    }
   }
  },
  {
   "cell_type": "code",
   "execution_count": 73,
   "outputs": [
    {
     "ename": "RuntimeError",
     "evalue": "A pipeline has not yet been optimized. Please call fit() first.",
     "output_type": "error",
     "traceback": [
      "\u001B[0;31m---------------------------------------------------------------------------\u001B[0m",
      "\u001B[0;31mRuntimeError\u001B[0m                              Traceback (most recent call last)",
      "\u001B[0;32m/tmp/ipykernel_61009/15917707.py\u001B[0m in \u001B[0;36m<module>\u001B[0;34m\u001B[0m\n\u001B[0;32m----> 1\u001B[0;31m \u001B[0mpipeline_optimizer\u001B[0m\u001B[0;34m.\u001B[0m\u001B[0mexport\u001B[0m\u001B[0;34m(\u001B[0m\u001B[0;34mf\"{score}_{datetime.today().strftime('%Y%m%d%H%M%S')}_tpot_exported_pipeline.py\"\u001B[0m\u001B[0;34m,\u001B[0m \u001B[0mdata_file_path\u001B[0m\u001B[0;34m=\u001B[0m\u001B[0;34m\"processed_data.csv\"\u001B[0m\u001B[0;34m)\u001B[0m\u001B[0;34m\u001B[0m\u001B[0;34m\u001B[0m\u001B[0m\n\u001B[0m",
      "\u001B[0;32m~/PycharmProjects/SmartGridAI/venv/lib/python3.9/site-packages/tpot/base.py\u001B[0m in \u001B[0;36mexport\u001B[0;34m(self, output_file_name, data_file_path)\u001B[0m\n\u001B[1;32m   1278\u001B[0m         \"\"\"\n\u001B[1;32m   1279\u001B[0m         \u001B[0;32mif\u001B[0m \u001B[0mself\u001B[0m\u001B[0;34m.\u001B[0m\u001B[0m_optimized_pipeline\u001B[0m \u001B[0;32mis\u001B[0m \u001B[0;32mNone\u001B[0m\u001B[0;34m:\u001B[0m\u001B[0;34m\u001B[0m\u001B[0;34m\u001B[0m\u001B[0m\n\u001B[0;32m-> 1280\u001B[0;31m             raise RuntimeError(\n\u001B[0m\u001B[1;32m   1281\u001B[0m                 \u001B[0;34m\"A pipeline has not yet been optimized. Please call fit() first.\"\u001B[0m\u001B[0;34m\u001B[0m\u001B[0;34m\u001B[0m\u001B[0m\n\u001B[1;32m   1282\u001B[0m             )\n",
      "\u001B[0;31mRuntimeError\u001B[0m: A pipeline has not yet been optimized. Please call fit() first."
     ]
    }
   ],
   "source": [
    "pipeline_optimizer.export(f\"{score}_{datetime.today().strftime('%Y%m%d%H%M%S')}_tpot_exported_pipeline.py\",\n",
    "                          data_file_path=\"processed_data.csv\")"
   ],
   "metadata": {
    "collapsed": false,
    "pycharm": {
     "name": "#%%\n"
    }
   }
  },
  {
   "cell_type": "code",
   "execution_count": null,
   "outputs": [],
   "source": [],
   "metadata": {
    "collapsed": false,
    "pycharm": {
     "name": "#%%\n"
    }
   }
  }
 ],
 "metadata": {
  "kernelspec": {
   "display_name": "Python 3",
   "language": "python",
   "name": "python3"
  },
  "language_info": {
   "codemirror_mode": {
    "name": "ipython",
    "version": 2
   },
   "file_extension": ".py",
   "mimetype": "text/x-python",
   "name": "python",
   "nbconvert_exporter": "python",
   "pygments_lexer": "ipython2",
   "version": "2.7.6"
  }
 },
 "nbformat": 4,
 "nbformat_minor": 0
}