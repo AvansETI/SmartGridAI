{
 "cells": [
  {
   "cell_type": "markdown",
   "metadata": {},
   "source": [
    "# Write data to InfluxDB via Python"
   ]
  },
  {
   "cell_type": "markdown",
   "metadata": {},
   "source": [
    "## Imports:"
   ]
  },
  {
   "cell_type": "code",
   "execution_count": 1,
   "metadata": {},
   "outputs": [],
   "source": [
    "from datetime import timedelta\n",
    "from typing import List\n",
    "\n",
    "import pandas as pd\n",
    "from influxdb_client import InfluxDBClient\n",
    "\n",
    "import pandas as pd\n",
    "import time\n",
    "import numpy as np"
   ]
  },
  {
   "cell_type": "markdown",
   "metadata": {},
   "source": [
    "## Make a connection"
   ]
  },
  {
   "cell_type": "code",
   "execution_count": 2,
   "metadata": {},
   "outputs": [],
   "source": [
    "hostUrl = \"http://localhost:8086\"\n",
    "userToken = \"mduUGH9w225A0Wn5MWsbexHcx98gnME-JPcUwp8TJhdHL5XLIGfPDHYSgCti3yHKZ_FrHsXjgU5fNOUqDXDj_Q==\"\n",
    "organisationUser = \"Student\""
   ]
  },
  {
   "cell_type": "code",
   "execution_count": 3,
   "metadata": {},
   "outputs": [],
   "source": [
    "client = InfluxDBClient(url=hostUrl, token=userToken, org=organisationUser)"
   ]
  },
  {
   "cell_type": "code",
   "execution_count": 4,
   "metadata": {},
   "outputs": [],
   "source": [
    "write_api = client.write_api()"
   ]
  },
  {
   "cell_type": "markdown",
   "metadata": {},
   "source": [
    "## Write data to bucket"
   ]
  },
  {
   "cell_type": "code",
   "execution_count": 5,
   "metadata": {},
   "outputs": [],
   "source": [
    "bucket = \"SmartGridAIV3\"\n",
    "organisation = \"Student\""
   ]
  },
  {
   "cell_type": "code",
   "execution_count": 6,
   "metadata": {},
   "outputs": [],
   "source": [
    "def write_data_to_bucket(bucket, organisation, data):\n",
    "    write_api.write(bucket, organisation, data)"
   ]
  },
  {
   "cell_type": "markdown",
   "metadata": {},
   "source": [
    "## Get the data ready"
   ]
  },
  {
   "cell_type": "code",
   "execution_count": 7,
   "metadata": {},
   "outputs": [
    {
     "data": {
      "text/html": [
       "<div>\n",
       "<style scoped>\n",
       "    .dataframe tbody tr th:only-of-type {\n",
       "        vertical-align: middle;\n",
       "    }\n",
       "\n",
       "    .dataframe tbody tr th {\n",
       "        vertical-align: top;\n",
       "    }\n",
       "\n",
       "    .dataframe thead th {\n",
       "        text-align: right;\n",
       "    }\n",
       "</style>\n",
       "<table border=\"1\" class=\"dataframe\">\n",
       "  <thead>\n",
       "    <tr style=\"text-align: right;\">\n",
       "      <th></th>\n",
       "      <th>Timestamp</th>\n",
       "      <th>Actueel verbruik in KW</th>\n",
       "      <th>Actueel oplevering in KW</th>\n",
       "      <th>Totaal vermogen opgewekt in tariff 1 in KWH</th>\n",
       "      <th>Totaal vermogen ontvangen in tariff 1 in KWH</th>\n",
       "      <th>Totaal vermogen opgewekt in tariff 2 in KWH</th>\n",
       "      <th>Totaal vermogen ontvangen in tariff 2 in KWH</th>\n",
       "    </tr>\n",
       "  </thead>\n",
       "  <tbody>\n",
       "    <tr>\n",
       "      <th>0</th>\n",
       "      <td>2020-12-12T01:07:06.784Z</td>\n",
       "      <td>0.088</td>\n",
       "      <td>0</td>\n",
       "      <td>0.006</td>\n",
       "      <td>3582.809</td>\n",
       "      <td>0</td>\n",
       "      <td>2541.74</td>\n",
       "    </tr>\n",
       "    <tr>\n",
       "      <th>1</th>\n",
       "      <td>2020-12-12T01:07:26.783Z</td>\n",
       "      <td>0.088</td>\n",
       "      <td>0</td>\n",
       "      <td>0.006</td>\n",
       "      <td>3582.810</td>\n",
       "      <td>0</td>\n",
       "      <td>2541.74</td>\n",
       "    </tr>\n",
       "    <tr>\n",
       "      <th>2</th>\n",
       "      <td>2020-12-12T01:07:46.781Z</td>\n",
       "      <td>0.089</td>\n",
       "      <td>0</td>\n",
       "      <td>0.006</td>\n",
       "      <td>3582.810</td>\n",
       "      <td>0</td>\n",
       "      <td>2541.74</td>\n",
       "    </tr>\n",
       "    <tr>\n",
       "      <th>3</th>\n",
       "      <td>2020-12-12T01:08:06.788Z</td>\n",
       "      <td>0.088</td>\n",
       "      <td>0</td>\n",
       "      <td>0.006</td>\n",
       "      <td>3582.811</td>\n",
       "      <td>0</td>\n",
       "      <td>2541.74</td>\n",
       "    </tr>\n",
       "    <tr>\n",
       "      <th>4</th>\n",
       "      <td>2020-12-12T01:08:26.782Z</td>\n",
       "      <td>0.088</td>\n",
       "      <td>0</td>\n",
       "      <td>0.006</td>\n",
       "      <td>3582.811</td>\n",
       "      <td>0</td>\n",
       "      <td>2541.74</td>\n",
       "    </tr>\n",
       "  </tbody>\n",
       "</table>\n",
       "</div>"
      ],
      "text/plain": [
       "                  Timestamp  Actueel verbruik in KW  Actueel oplevering in KW  \\\n",
       "0  2020-12-12T01:07:06.784Z                   0.088                         0   \n",
       "1  2020-12-12T01:07:26.783Z                   0.088                         0   \n",
       "2  2020-12-12T01:07:46.781Z                   0.089                         0   \n",
       "3  2020-12-12T01:08:06.788Z                   0.088                         0   \n",
       "4  2020-12-12T01:08:26.782Z                   0.088                         0   \n",
       "\n",
       "   Totaal vermogen opgewekt in tariff 1 in KWH  \\\n",
       "0                                        0.006   \n",
       "1                                        0.006   \n",
       "2                                        0.006   \n",
       "3                                        0.006   \n",
       "4                                        0.006   \n",
       "\n",
       "   Totaal vermogen ontvangen in tariff 1 in KWH  \\\n",
       "0                                      3582.809   \n",
       "1                                      3582.810   \n",
       "2                                      3582.810   \n",
       "3                                      3582.811   \n",
       "4                                      3582.811   \n",
       "\n",
       "   Totaal vermogen opgewekt in tariff 2 in KWH  \\\n",
       "0                                            0   \n",
       "1                                            0   \n",
       "2                                            0   \n",
       "3                                            0   \n",
       "4                                            0   \n",
       "\n",
       "   Totaal vermogen ontvangen in tariff 2 in KWH  \n",
       "0                                       2541.74  \n",
       "1                                       2541.74  \n",
       "2                                       2541.74  \n",
       "3                                       2541.74  \n",
       "4                                       2541.74  "
      ]
     },
     "execution_count": 7,
     "metadata": {},
     "output_type": "execute_result"
    }
   ],
   "source": [
    "df = pd.read_csv('2019-ETI-EMON-V01-C602ED-1640EF.csv', sep=',')\n",
    "df.head()"
   ]
  },
  {
   "cell_type": "markdown",
   "metadata": {},
   "source": [
    "### Data Conversion"
   ]
  },
  {
   "cell_type": "code",
   "execution_count": 8,
   "metadata": {},
   "outputs": [],
   "source": [
    "def to_datetime(timestamp): \n",
    "    return np.datetime64(timestamp)\n",
    "\n",
    "def to_nano(timestamp):\n",
    "    return int(timestamp.timestamp()*1000000000)"
   ]
  },
  {
   "cell_type": "code",
   "execution_count": 9,
   "metadata": {},
   "outputs": [
    {
     "name": "stderr",
     "output_type": "stream",
     "text": [
      "<ipython-input-8-7e0b4a3f1e32>:2: DeprecationWarning: parsing timezone aware datetimes is deprecated; this will raise an error in the future\n",
      "  return np.datetime64(timestamp)\n"
     ]
    },
    {
     "data": {
      "text/html": [
       "<div>\n",
       "<style scoped>\n",
       "    .dataframe tbody tr th:only-of-type {\n",
       "        vertical-align: middle;\n",
       "    }\n",
       "\n",
       "    .dataframe tbody tr th {\n",
       "        vertical-align: top;\n",
       "    }\n",
       "\n",
       "    .dataframe thead th {\n",
       "        text-align: right;\n",
       "    }\n",
       "</style>\n",
       "<table border=\"1\" class=\"dataframe\">\n",
       "  <thead>\n",
       "    <tr style=\"text-align: right;\">\n",
       "      <th></th>\n",
       "      <th>Timestamp</th>\n",
       "      <th>Actueel verbruik in KW</th>\n",
       "      <th>Actueel oplevering in KW</th>\n",
       "      <th>Totaal vermogen opgewekt in tariff 1 in KWH</th>\n",
       "      <th>Totaal vermogen ontvangen in tariff 1 in KWH</th>\n",
       "      <th>Totaal vermogen opgewekt in tariff 2 in KWH</th>\n",
       "      <th>Totaal vermogen ontvangen in tariff 2 in KWH</th>\n",
       "    </tr>\n",
       "  </thead>\n",
       "  <tbody>\n",
       "    <tr>\n",
       "      <th>0</th>\n",
       "      <td>1607735226784000000</td>\n",
       "      <td>0.088</td>\n",
       "      <td>0</td>\n",
       "      <td>0.006</td>\n",
       "      <td>3582.809</td>\n",
       "      <td>0</td>\n",
       "      <td>2541.74</td>\n",
       "    </tr>\n",
       "    <tr>\n",
       "      <th>1</th>\n",
       "      <td>1607735246783000064</td>\n",
       "      <td>0.088</td>\n",
       "      <td>0</td>\n",
       "      <td>0.006</td>\n",
       "      <td>3582.810</td>\n",
       "      <td>0</td>\n",
       "      <td>2541.74</td>\n",
       "    </tr>\n",
       "    <tr>\n",
       "      <th>2</th>\n",
       "      <td>1607735266780999936</td>\n",
       "      <td>0.089</td>\n",
       "      <td>0</td>\n",
       "      <td>0.006</td>\n",
       "      <td>3582.810</td>\n",
       "      <td>0</td>\n",
       "      <td>2541.74</td>\n",
       "    </tr>\n",
       "    <tr>\n",
       "      <th>3</th>\n",
       "      <td>1607735286788000000</td>\n",
       "      <td>0.088</td>\n",
       "      <td>0</td>\n",
       "      <td>0.006</td>\n",
       "      <td>3582.811</td>\n",
       "      <td>0</td>\n",
       "      <td>2541.74</td>\n",
       "    </tr>\n",
       "    <tr>\n",
       "      <th>4</th>\n",
       "      <td>1607735306782000128</td>\n",
       "      <td>0.088</td>\n",
       "      <td>0</td>\n",
       "      <td>0.006</td>\n",
       "      <td>3582.811</td>\n",
       "      <td>0</td>\n",
       "      <td>2541.74</td>\n",
       "    </tr>\n",
       "  </tbody>\n",
       "</table>\n",
       "</div>"
      ],
      "text/plain": [
       "             Timestamp  Actueel verbruik in KW  Actueel oplevering in KW  \\\n",
       "0  1607735226784000000                   0.088                         0   \n",
       "1  1607735246783000064                   0.088                         0   \n",
       "2  1607735266780999936                   0.089                         0   \n",
       "3  1607735286788000000                   0.088                         0   \n",
       "4  1607735306782000128                   0.088                         0   \n",
       "\n",
       "   Totaal vermogen opgewekt in tariff 1 in KWH  \\\n",
       "0                                        0.006   \n",
       "1                                        0.006   \n",
       "2                                        0.006   \n",
       "3                                        0.006   \n",
       "4                                        0.006   \n",
       "\n",
       "   Totaal vermogen ontvangen in tariff 1 in KWH  \\\n",
       "0                                      3582.809   \n",
       "1                                      3582.810   \n",
       "2                                      3582.810   \n",
       "3                                      3582.811   \n",
       "4                                      3582.811   \n",
       "\n",
       "   Totaal vermogen opgewekt in tariff 2 in KWH  \\\n",
       "0                                            0   \n",
       "1                                            0   \n",
       "2                                            0   \n",
       "3                                            0   \n",
       "4                                            0   \n",
       "\n",
       "   Totaal vermogen ontvangen in tariff 2 in KWH  \n",
       "0                                       2541.74  \n",
       "1                                       2541.74  \n",
       "2                                       2541.74  \n",
       "3                                       2541.74  \n",
       "4                                       2541.74  "
      ]
     },
     "execution_count": 9,
     "metadata": {},
     "output_type": "execute_result"
    }
   ],
   "source": [
    "df['Timestamp'] = df['Timestamp'].apply(to_datetime)\n",
    "df['Timestamp'] = df['Timestamp'].apply(to_nano)\n",
    "df.head()"
   ]
  },
  {
   "cell_type": "markdown",
   "metadata": {},
   "source": [
    "### Import conversion as clean data"
   ]
  },
  {
   "cell_type": "code",
   "execution_count": 10,
   "metadata": {},
   "outputs": [],
   "source": [
    "# export as csv\n",
    "ns_precision = df\n",
    "ns_precision.to_csv('clean_data.csv', index=False)"
   ]
  },
  {
   "cell_type": "code",
   "execution_count": 11,
   "metadata": {},
   "outputs": [],
   "source": [
    "#convert csv's to line protocol (with nanosecond precision)df = pd.read_csv(\"data/BTC_sm_ns.csv\")\n",
    "lines = [\"Actual_Data\"\n",
    "         + \",type=BTC\"\n",
    "         + \" \"\n",
    "         + \"Actual_Usage=\" + str(df[\"Actueel verbruik in KW\"][d]) + \",\"\n",
    "         + \"Actual_Receive=\" + str(df[\"Actueel oplevering in KW\"][d]) + \",\"\n",
    "         + \"Wake_up=\" + str(df[\"Totaal vermogen opgewekt in tariff 1 in KWH\"][d]) + \",\"\n",
    "         + \"Receiving=\" + str(df[\"Totaal vermogen ontvangen in tariff 1 in KWH\"][d]) + \",\"\n",
    "         + \"Power_Wake=\" + str(df[\"Totaal vermogen opgewekt in tariff 2 in KWH\"][d]) + \",\"\n",
    "         + \"Power_Receive=\" + str(df[\"Totaal vermogen ontvangen in tariff 2 in KWH\"][d])\n",
    "         + \" \" + str(df[\"Timestamp\"][d]) for d in range(len(df))]"
   ]
  },
  {
   "cell_type": "code",
   "execution_count": 12,
   "metadata": {},
   "outputs": [],
   "source": [
    "thefile = open('chronograf.txt', 'w')\n",
    "for item in lines:\n",
    "    thefile.write(\"%s\\n\" % item)"
   ]
  },
  {
   "cell_type": "markdown",
   "metadata": {},
   "source": [
    "## Write data to the given bucket"
   ]
  },
  {
   "cell_type": "code",
   "execution_count": 14,
   "metadata": {},
   "outputs": [],
   "source": [
    "for item in lines:\n",
    "    write_data_to_bucket(bucket,organisation,item)"
   ]
  },
  {
   "cell_type": "code",
   "execution_count": null,
   "metadata": {},
   "outputs": [],
   "source": []
  }
 ],
 "metadata": {
  "kernelspec": {
   "display_name": "Python 3",
   "language": "python",
   "name": "python3"
  },
  "language_info": {
   "codemirror_mode": {
    "name": "ipython",
    "version": 3
   },
   "file_extension": ".py",
   "mimetype": "text/x-python",
   "name": "python",
   "nbconvert_exporter": "python",
   "pygments_lexer": "ipython3",
   "version": "3.8.5"
  }
 },
 "nbformat": 4,
 "nbformat_minor": 4
}
