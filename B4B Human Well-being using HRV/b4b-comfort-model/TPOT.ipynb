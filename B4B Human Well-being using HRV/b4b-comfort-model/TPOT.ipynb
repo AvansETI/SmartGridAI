{
 "cells": [
  {
   "cell_type": "markdown",
   "source": [
    "# Imports"
   ],
   "metadata": {
    "collapsed": false
   }
  },
  {
   "cell_type": "code",
   "execution_count": 1,
   "outputs": [],
   "source": [
    "import pandas as pd\n",
    "from sklearn.model_selection import train_test_split\n",
    "from tpot import TPOTClassifier\n",
    "from sklearn.model_selection import train_test_split"
   ],
   "metadata": {
    "collapsed": false
   }
  },
  {
   "cell_type": "markdown",
   "source": [
    "# Read data"
   ],
   "metadata": {
    "collapsed": false
   }
  },
  {
   "cell_type": "code",
   "execution_count": 2,
   "metadata": {
    "collapsed": true
   },
   "outputs": [
    {
     "data": {
      "text/plain": "              DateTime       RMSSD       User Name  Air Qualityall Good  \\\n0  2022-12-12 13:28:19   30.287191  Noah@email.com                  1.0   \n1  2022-12-12 13:28:43  103.473443   job@email.com                  1.0   \n2  2022-12-12 13:31:19   25.434576  Noah@email.com                  1.0   \n3  2022-12-12 13:34:52   26.282239  Noah@email.com                  1.0   \n4  2022-12-12 13:39:23   31.830500  Noah@email.com                  1.0   \n\n   Beverage  Cloth 1  Cloth 2  Cloth 3  Cloth 4  Cloth 5  ...  Location_LD106  \\\n0       2.0      0.0      0.0      1.0      0.0      0.0  ...             0.0   \n1       2.0      0.0      0.0      1.0      0.0      0.0  ...             0.0   \n2       2.0      0.0      0.0      1.0      0.0      0.0  ...             0.0   \n3       2.0      0.0      0.0      1.0      0.0      0.0  ...             0.0   \n4       2.0      0.0      0.0      1.0      0.0      0.0  ...             0.0   \n\n   Location_LD124  Location_LD323  Location_LD328  Humidity  Temperature  \\\n0             0.0             0.0             0.0      35.5         21.4   \n1             0.0             0.0             0.0      35.5         21.4   \n2             0.0             0.0             0.0      35.5         21.4   \n3             0.0             0.0             0.0      35.6         21.4   \n4             0.0             0.0             0.0      35.7         21.5   \n\n   TemperatureF   Light    eCO2   TVOC  \n0         70.52  1106.0   530.0   19.0  \n1         70.52  1106.0   530.0   19.0  \n2         70.52   992.0   584.0   28.0  \n3         70.52  1118.0   589.0   28.0  \n4         70.70  1115.0  2018.0  779.0  \n\n[5 rows x 46 columns]",
      "text/html": "<div>\n<style scoped>\n    .dataframe tbody tr th:only-of-type {\n        vertical-align: middle;\n    }\n\n    .dataframe tbody tr th {\n        vertical-align: top;\n    }\n\n    .dataframe thead th {\n        text-align: right;\n    }\n</style>\n<table border=\"1\" class=\"dataframe\">\n  <thead>\n    <tr style=\"text-align: right;\">\n      <th></th>\n      <th>DateTime</th>\n      <th>RMSSD</th>\n      <th>User Name</th>\n      <th>Air Qualityall Good</th>\n      <th>Beverage</th>\n      <th>Cloth 1</th>\n      <th>Cloth 2</th>\n      <th>Cloth 3</th>\n      <th>Cloth 4</th>\n      <th>Cloth 5</th>\n      <th>...</th>\n      <th>Location_LD106</th>\n      <th>Location_LD124</th>\n      <th>Location_LD323</th>\n      <th>Location_LD328</th>\n      <th>Humidity</th>\n      <th>Temperature</th>\n      <th>TemperatureF</th>\n      <th>Light</th>\n      <th>eCO2</th>\n      <th>TVOC</th>\n    </tr>\n  </thead>\n  <tbody>\n    <tr>\n      <th>0</th>\n      <td>2022-12-12 13:28:19</td>\n      <td>30.287191</td>\n      <td>Noah@email.com</td>\n      <td>1.0</td>\n      <td>2.0</td>\n      <td>0.0</td>\n      <td>0.0</td>\n      <td>1.0</td>\n      <td>0.0</td>\n      <td>0.0</td>\n      <td>...</td>\n      <td>0.0</td>\n      <td>0.0</td>\n      <td>0.0</td>\n      <td>0.0</td>\n      <td>35.5</td>\n      <td>21.4</td>\n      <td>70.52</td>\n      <td>1106.0</td>\n      <td>530.0</td>\n      <td>19.0</td>\n    </tr>\n    <tr>\n      <th>1</th>\n      <td>2022-12-12 13:28:43</td>\n      <td>103.473443</td>\n      <td>job@email.com</td>\n      <td>1.0</td>\n      <td>2.0</td>\n      <td>0.0</td>\n      <td>0.0</td>\n      <td>1.0</td>\n      <td>0.0</td>\n      <td>0.0</td>\n      <td>...</td>\n      <td>0.0</td>\n      <td>0.0</td>\n      <td>0.0</td>\n      <td>0.0</td>\n      <td>35.5</td>\n      <td>21.4</td>\n      <td>70.52</td>\n      <td>1106.0</td>\n      <td>530.0</td>\n      <td>19.0</td>\n    </tr>\n    <tr>\n      <th>2</th>\n      <td>2022-12-12 13:31:19</td>\n      <td>25.434576</td>\n      <td>Noah@email.com</td>\n      <td>1.0</td>\n      <td>2.0</td>\n      <td>0.0</td>\n      <td>0.0</td>\n      <td>1.0</td>\n      <td>0.0</td>\n      <td>0.0</td>\n      <td>...</td>\n      <td>0.0</td>\n      <td>0.0</td>\n      <td>0.0</td>\n      <td>0.0</td>\n      <td>35.5</td>\n      <td>21.4</td>\n      <td>70.52</td>\n      <td>992.0</td>\n      <td>584.0</td>\n      <td>28.0</td>\n    </tr>\n    <tr>\n      <th>3</th>\n      <td>2022-12-12 13:34:52</td>\n      <td>26.282239</td>\n      <td>Noah@email.com</td>\n      <td>1.0</td>\n      <td>2.0</td>\n      <td>0.0</td>\n      <td>0.0</td>\n      <td>1.0</td>\n      <td>0.0</td>\n      <td>0.0</td>\n      <td>...</td>\n      <td>0.0</td>\n      <td>0.0</td>\n      <td>0.0</td>\n      <td>0.0</td>\n      <td>35.6</td>\n      <td>21.4</td>\n      <td>70.52</td>\n      <td>1118.0</td>\n      <td>589.0</td>\n      <td>28.0</td>\n    </tr>\n    <tr>\n      <th>4</th>\n      <td>2022-12-12 13:39:23</td>\n      <td>31.830500</td>\n      <td>Noah@email.com</td>\n      <td>1.0</td>\n      <td>2.0</td>\n      <td>0.0</td>\n      <td>0.0</td>\n      <td>1.0</td>\n      <td>0.0</td>\n      <td>0.0</td>\n      <td>...</td>\n      <td>0.0</td>\n      <td>0.0</td>\n      <td>0.0</td>\n      <td>0.0</td>\n      <td>35.7</td>\n      <td>21.5</td>\n      <td>70.70</td>\n      <td>1115.0</td>\n      <td>2018.0</td>\n      <td>779.0</td>\n    </tr>\n  </tbody>\n</table>\n<p>5 rows × 46 columns</p>\n</div>"
     },
     "execution_count": 2,
     "metadata": {},
     "output_type": "execute_result"
    }
   ],
   "source": [
    "df = pd.read_csv('final.csv')\n",
    "df.head()"
   ]
  },
  {
   "cell_type": "code",
   "execution_count": 3,
   "outputs": [],
   "source": [
    "df_y = df['Thermal Comfort']\n",
    "df_X = df.drop(columns=['Thermal Comfort', 'DateTime', 'User Name', 'Timestamp'], axis=1)\n",
    "# Remove strings because tpot does not support them\n",
    "\n",
    "# Split the data in a train and test set with each set contains approximately the same percentage of samples of each target class as the complete set.\n",
    "train_X, text_X = train_test_split(df_X, test_size=0.3, random_state=42)\n",
    "train_y, test_y = train_test_split(df_y, test_size=0.3, random_state=42)"
   ],
   "metadata": {
    "collapsed": false
   }
  },
  {
   "cell_type": "code",
   "execution_count": 4,
   "outputs": [
    {
     "name": "stderr",
     "output_type": "stream",
     "text": [
      "C:\\Users\\jobha\\anaconda3\\envs\\tpot\\lib\\site-packages\\tpot\\tpot.py:67: FutureWarning: The behavior of `series[i:j]` with an integer-dtype index is deprecated. In a future version, this will be treated as *label-based* indexing, consistent with e.g. `series[i]` lookups. To retain the old behavior, use `series.iloc[i:j]`. To get the future behavior, use `series.loc[i:j]`.\n",
      "  self.pretest_y[0:unique_target_idx.shape[0]] = \\\n"
     ]
    },
    {
     "data": {
      "text/plain": "Optimization Progress:   0%|          | 0/300 [00:00<?, ?pipeline/s]",
      "application/vnd.jupyter.widget-view+json": {
       "version_major": 2,
       "version_minor": 0,
       "model_id": "b6a11ab9052c4e5580244d3964762e6d"
      }
     },
     "metadata": {},
     "output_type": "display_data"
    },
    {
     "name": "stdout",
     "output_type": "stream",
     "text": [
      "\n",
      "Generation 1 - Current best internal CV score: 0.6439024390243903\n",
      "\n",
      "Generation 2 - Current best internal CV score: 0.6439024390243903\n",
      "\n",
      "Generation 3 - Current best internal CV score: 0.673170731707317\n",
      "\n",
      "Generation 4 - Current best internal CV score: 0.673170731707317\n",
      "\n",
      "Generation 5 - Current best internal CV score: 0.673170731707317\n",
      "\n",
      "Best pipeline: RandomForestClassifier(RobustScaler(PolynomialFeatures(input_matrix, degree=2, include_bias=False, interaction_only=False)), bootstrap=False, criterion=entropy, max_features=0.1, min_samples_leaf=8, min_samples_split=11, n_estimators=100)\n"
     ]
    },
    {
     "name": "stderr",
     "output_type": "stream",
     "text": [
      "C:\\Users\\jobha\\anaconda3\\envs\\tpot\\lib\\site-packages\\sklearn\\metrics\\_scorer.py:765: FutureWarning: sklearn.metrics.SCORERS is deprecated and will be removed in v1.3. Please use sklearn.metrics.get_scorer_names to get a list of available scorers and sklearn.metrics.get_metric to get scorer.\n",
      "  warnings.warn(\n"
     ]
    },
    {
     "data": {
      "text/plain": "0.5"
     },
     "execution_count": 4,
     "metadata": {},
     "output_type": "execute_result"
    }
   ],
   "source": [
    "tpot = TPOTClassifier(generations=5, population_size=50, verbosity=2, n_jobs=-1)\n",
    "tpot.fit(train_X, train_y)\n",
    "tpot.score(text_X, test_y)"
   ],
   "metadata": {
    "collapsed": false
   }
  }
 ],
 "metadata": {
  "kernelspec": {
   "display_name": "Python 3",
   "language": "python",
   "name": "python3"
  },
  "language_info": {
   "codemirror_mode": {
    "name": "ipython",
    "version": 2
   },
   "file_extension": ".py",
   "mimetype": "text/x-python",
   "name": "python",
   "nbconvert_exporter": "python",
   "pygments_lexer": "ipython2",
   "version": "2.7.6"
  }
 },
 "nbformat": 4,
 "nbformat_minor": 0
}
