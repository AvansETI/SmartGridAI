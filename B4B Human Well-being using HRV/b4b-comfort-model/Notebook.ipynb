{
 "cells": [
  {
   "cell_type": "markdown",
   "source": [
    "### Load Arduino readings"
   ],
   "metadata": {
    "collapsed": false
   }
  },
  {
   "cell_type": "code",
   "execution_count": 1,
   "metadata": {
    "collapsed": true
   },
   "outputs": [],
   "source": [
    "import glob\n",
    "import math\n",
    "\n",
    "import pandas as pd\n",
    "l = [pd.read_csv(filename, names=[\"Humidity\", \"Temperature\", \"TemperatureF\", \"Lux\", \"Test\",\"Ts\", \"DateTime\"]) for filename in glob.glob(\"./data/readings/*.TXT\")]\n",
    "dfreadings = pd.concat(l, axis=0)"
   ]
  },
  {
   "cell_type": "code",
   "execution_count": 2,
   "outputs": [
    {
     "data": {
      "text/plain": "[   Humidity  Temperature  TemperatureF    Lux  Test  Ts             DateTime\n 0      36.9         21.7         71.06  484.0   415   2  2022-12-12T13:02:04\n 1      36.8         21.7         71.06  489.0   641  36  2022-12-12T13:03:04\n 2      37.6         21.8         71.24  496.0   426   3  2022-12-12T13:04:04,\n    Humidity  Temperature  TemperatureF    Lux  Test  Ts             DateTime\n 0      37.0         21.8         71.24  495.0   400   0  2022-12-12T13:05:31\n 1      36.6         21.7         71.06  493.0   432   4  2022-12-12T13:06:31,\n     Humidity  Temperature  TemperatureF     Lux  Test   Ts  \\\n 0       35.1         21.7         71.06   841.0   400    0   \n 1       35.0         21.5         70.70   868.0   400    0   \n 2       35.0         21.5         70.70  1101.0   400    0   \n 3       35.2         21.5         70.70  1085.0   400    0   \n 4       35.1         21.5         70.70  1048.0   405    0   \n 5       35.1         21.4         70.52  1075.0   411    1   \n 6       35.3         21.4         70.52  1094.0   424    3   \n 7       35.3         21.4         70.52  1078.0   420    3   \n 8       35.3         21.4         70.52  1111.0   424    3   \n 9       35.4         21.4         70.52  1099.0   435    5   \n 10      35.4         21.4         70.52  1099.0   456    8   \n 11      35.4         21.4         70.52  1102.0   502   15   \n 12      35.5         21.4         70.52  1106.0   530   19   \n 13      35.5         21.4         70.52  1118.0   584   28   \n 14      35.5         21.4         70.52   908.0   570   25   \n 15      35.5         21.4         70.52   992.0   584   28   \n 16      35.5         21.4         70.52  1130.0   577   26   \n 17      35.5         21.4         70.52  1130.0   584   28   \n 18      35.6         21.4         70.52  1118.0   589   28   \n 19      35.6         21.4         70.52  1097.0   589   28   \n 20      35.6         21.4         70.52  1096.0   589   28   \n 21      35.6         21.5         70.70  1059.0   589   28   \n 22      35.7         21.5         70.70  1092.0   602   30   \n 23      35.7         21.5         70.70  1115.0  2018  779   \n 24      35.8         21.5         70.70  1102.0  1652  292   \n 25      35.8         21.5         70.70   931.0  1404  152   \n 26      35.9         21.5         70.70   937.0  1212  123   \n 27      35.8         21.5         70.70   909.0  1181  118   \n 28      35.7         21.5         70.70   889.0  1118  109   \n \n                DateTime  \n 0   2022-12-12T13:16:29  \n 1   2022-12-12T13:17:29  \n 2   2022-12-12T13:18:30  \n 3   2022-12-12T13:19:30  \n 4   2022-12-12T13:20:30  \n 5   2022-12-12T13:21:30  \n 6   2022-12-12T13:22:30  \n 7   2022-12-12T13:23:30  \n 8   2022-12-12T13:24:30  \n 9   2022-12-12T13:25:30  \n 10  2022-12-12T13:26:30  \n 11  2022-12-12T13:27:30  \n 12  2022-12-12T13:28:30  \n 13  2022-12-12T13:29:30  \n 14  2022-12-12T13:30:30  \n 15  2022-12-12T13:31:30  \n 16  2022-12-12T13:32:30  \n 17  2022-12-12T13:33:31  \n 18  2022-12-12T13:34:31  \n 19  2022-12-12T13:35:31  \n 20  2022-12-12T13:36:31  \n 21  2022-12-12T13:37:31  \n 22  2022-12-12T13:38:31  \n 23  2022-12-12T13:39:31  \n 24  2022-12-12T13:40:31  \n 25  2022-12-12T13:41:31  \n 26  2022-12-12T13:42:31  \n 27  2022-12-12T13:43:31  \n 28  2022-12-12T13:44:31  ,\n     Humidity  Temperature  TemperatureF     Lux  Test  Ts             DateTime\n 0       35.9         21.5         70.70   908.0   400   0  2022-12-12T13:48:49\n 1       35.8         21.5         70.70   906.0   400   0  2022-12-12T13:49:49\n 2       35.7         21.5         70.70   903.0   400   0  2022-12-12T13:50:50\n 3       35.8         21.5         70.70   907.0   409   1  2022-12-12T13:51:50\n 4       35.7         21.5         70.70  1042.0   446   7  2022-12-12T13:52:50\n 5       35.8         21.5         70.70   898.0   441   6  2022-12-12T13:53:50\n 6       35.7         21.5         70.70   996.0   425   3  2022-12-12T13:54:50\n 7       35.7         21.5         70.70   901.0   411   1  2022-12-12T13:55:50\n 8       35.7         21.5         70.70   899.0   402   0  2022-12-12T13:56:50\n 9       35.7         21.6         70.88   896.0   402   0  2022-12-12T13:57:50\n 10      35.7         21.6         70.88  1033.0   411   1  2022-12-12T13:58:50\n 11      35.7         21.6         70.88   947.0   400   0  2022-12-12T13:59:50\n 12      35.7         21.6         70.88   892.0   400   0  2022-12-12T14:00:50\n 13      35.7         21.5         70.70   882.0   400   0  2022-12-12T14:01:50\n 14      35.8         21.5         70.70   878.0   403   0  2022-12-12T14:02:50\n 15      35.8         21.5         70.70   879.0   400   0  2022-12-12T14:03:50\n 16      35.8         21.5         70.70   882.0   400   0  2022-12-12T14:04:51\n 17      35.8         21.5         70.70   940.0   402   0  2022-12-12T14:05:51\n 18      35.8         21.5         70.70  1068.0   407   1  2022-12-12T14:06:51\n 19      35.9         21.5         70.70  1127.0   405   0  2022-12-12T14:07:51\n 20      35.8         21.5         70.70  1127.0   400   0  2022-12-12T14:08:51\n 21      35.8         21.5         70.70  1130.0   411   1  2022-12-12T14:09:51\n 22      35.8         21.5         70.70  1122.0   414   2  2022-12-12T14:10:51\n 23      35.9         21.6         70.88  1117.0   411   1  2022-12-12T14:11:51\n 24      35.8         21.6         70.88  1121.0   407   1  2022-12-12T14:12:51\n 25      35.8         21.6         70.88  1117.0   402   0  2022-12-12T14:13:51\n 26      35.8         21.6         70.88  1106.0   402   0  2022-12-12T14:14:51\n 27      35.8         21.6         70.88  1094.0   400   0  2022-12-12T14:15:51\n 28      35.8         21.6         70.88  1082.0   400   0  2022-12-12T14:16:51\n 29      35.7         21.6         70.88  1075.0   405   0  2022-12-12T14:17:51\n 30      35.8         21.6         70.88  1069.0   422   3  2022-12-12T14:18:51\n 31      35.8         21.7         71.06  1042.0   475  11  2022-12-12T14:19:52\n 32      35.7         21.7         71.06  1030.0   454   8  2022-12-12T14:20:52\n 33      35.7         21.7         71.06  1028.0   445   6  2022-12-12T14:21:52\n 34      35.7         21.7         71.06  1009.0   426   3  2022-12-12T14:22:52\n 35      35.7         21.5         70.70  1009.0   426   3  2022-12-12T14:23:52\n 36      35.8         21.6         70.88  1023.0   422   3  2022-12-12T14:24:52\n 37      35.7         21.7         71.06  1019.0   415   2  2022-12-12T14:25:52\n 38      35.7         21.7         71.06  1015.0   408   1  2022-12-12T14:26:52\n 39      35.7         21.7         71.06   998.0   405   0  2022-12-12T14:27:52\n 40      35.7         21.7         71.06   994.0   408   1  2022-12-12T14:28:52\n 41      35.7         21.7         71.06   813.0   400   0  2022-12-12T14:29:52\n 42      35.7         21.7         71.06   806.0   408   1  2022-12-12T14:30:52\n 43      35.7         21.7         71.06   804.0   408   1  2022-12-12T14:31:52\n 44      35.8         21.7         71.06   798.0   408   1  2022-12-12T14:32:52\n 45      35.7         21.7         71.06   794.0   405   0  2022-12-12T14:33:52\n 46      35.8         21.7         71.06   790.0   405   0  2022-12-12T14:34:53\n 47      35.7         21.7         71.06   787.0   400   0  2022-12-12T14:35:53\n 48      35.8         21.7         71.06   785.0   400   0  2022-12-12T14:36:53\n 49      35.8         21.7         71.06   785.0   400   0  2022-12-12T14:37:53\n 50      35.8         21.7         71.06   788.0   403   0  2022-12-12T14:38:53\n 51      35.8         21.7         71.06   787.0   408   1  2022-12-12T14:39:53\n 52      35.8         21.7         71.06   784.0   400   0  2022-12-12T14:40:53\n 53      35.8         21.7         71.06   781.0   406   0  2022-12-12T14:41:53\n 54      35.8         21.7         71.06   781.0   406   0  2022-12-12T14:42:53\n 55      35.8         21.8         71.24   778.0   400   0  2022-12-12T14:43:53\n 56      35.8         21.7         71.06   774.0   402   0  2022-12-12T14:44:53\n 57      35.8         21.7         71.06   775.0   400   0  2022-12-12T14:45:53\n 58      35.8         21.8         71.24   809.0   400   0  2022-12-12T14:46:53\n 59      35.8         21.8         71.24   776.0   400   0  2022-12-12T14:47:53,\n     Humidity  Temperature  TemperatureF    Lux  Test  Ts             DateTime\n 0       36.1         19.7         67.46  464.0   400   0  2022-12-13T09:56:09\n 1       35.7         19.7         67.46  495.0   400   0  2022-12-13T09:57:09\n 2       35.5         19.7         67.46  518.0   400   0  2022-12-13T09:58:09\n 3       35.5         19.8         67.64  520.0   400   0  2022-12-13T09:59:09\n 4       35.4         19.9         67.82  522.0   400   0  2022-12-13T10:00:09\n 5       35.1         20.0         68.00  485.0   400   0  2022-12-13T10:01:09\n 6       35.3         20.0         68.00  459.0   400   0  2022-12-13T10:02:09\n 7       35.0         20.0         68.00  503.0   400   0  2022-12-13T10:03:09\n 8       35.1         20.1         68.18  512.0   400   0  2022-12-13T10:04:10\n 9       35.1         20.1         68.18  493.0   400   0  2022-12-13T10:05:10\n 10      35.0         20.2         68.36  445.0   400   0  2022-12-13T10:06:10\n 11      35.0         20.3         68.54  448.0   400   0  2022-12-13T10:07:10\n 12      34.9         20.3         68.54  431.0   400   0  2022-12-13T10:08:10\n 13      35.0         20.3         68.54  448.0   400   0  2022-12-13T10:09:10\n 14      35.0         20.3         68.54  406.0   400   0  2022-12-13T10:10:10\n 15      35.1         20.3         68.54  425.0   407   1  2022-12-13T10:11:10\n 16      35.4         20.3         68.54  430.0   577  26  2022-12-13T10:12:10,\n     Humidity  Temperature  TemperatureF    Lux  Test  Ts             DateTime\n 0       35.4         20.5         68.90  427.0   400   0  2022-12-13T10:14:42\n 1       35.5         20.5         68.90  414.0   400   0  2022-12-13T10:15:42\n 2       35.5         20.5         68.90  433.0   400   0  2022-12-13T10:16:42\n 3       35.1         20.5         68.90  478.0   400   0  2022-12-13T10:17:42\n 4       35.0         20.5         68.90  461.0   400   0  2022-12-13T10:18:42\n 5       34.8         20.5         68.90  451.0   405   0  2022-12-13T10:19:43\n 6       35.0         20.5         68.90  449.0   400   0  2022-12-13T10:20:43\n 7       34.8         20.6         69.08  483.0   400   0  2022-12-13T10:21:43\n 8       35.0         20.6         69.08  527.0   400   0  2022-12-13T10:22:43\n 9       34.7         20.7         69.26  462.0   403   0  2022-12-13T10:23:43\n 10      35.2         20.7         69.26  468.0   409   1  2022-12-13T10:24:43\n 11      34.9         20.7         69.26  494.0   417   2  2022-12-13T10:25:43\n 12      35.1         20.8         69.44  523.0   417   2  2022-12-13T10:26:43\n 13      34.9         20.8         69.44  545.0   400   0  2022-12-13T10:27:43\n 14      34.8         20.8         69.44  541.0   401   0  2022-12-13T10:28:43\n 15      35.2         20.9         69.62  537.0   408   1  2022-12-13T10:29:43\n 16      35.1         20.9         69.62  517.0   400   0  2022-12-13T10:30:43\n 17      35.3         20.9         69.62  485.0   422   3  2022-12-13T10:31:43\n 18      35.4         20.9         69.62  484.0   400   0  2022-12-13T10:32:43\n 19      35.2         20.9         69.62  487.0   400   0  2022-12-13T10:33:44\n 20      34.9         20.9         69.62  560.0   425   3  2022-12-13T10:34:44\n 21      35.1         21.0         69.80  554.0   408   1  2022-12-13T10:35:44\n 22      35.1         21.0         69.80  534.0   400   0  2022-12-13T10:36:44\n 23      34.9         21.0         69.80  469.0   417   2  2022-12-13T10:37:44,\n     Humidity  Temperature  TemperatureF    Lux  Test  Ts             DateTime\n 0       36.8         20.0         68.00  460.0   400   0  2022-12-12T09:52:57\n 1       38.6         20.3         68.54  465.0   443   6  2022-12-12T09:54:36\n 2       39.0         20.4         68.72  462.0   400   0  2022-12-12T09:54:43\n 3       38.2         20.4         68.72  483.0   400   0  2022-12-12T09:55:49\n 4       37.4         20.4         68.72  482.0   400   0  2022-12-12T09:55:56\n ..       ...          ...           ...    ...   ...  ..                  ...\n 62      36.1         21.3         70.34  564.0   415   2  2022-12-12T10:54:39\n 63      36.3         21.3         70.34  532.0   650  38  2022-12-12T10:55:39\n 64      36.6         21.2         70.16  528.0   444   6  2022-12-12T10:56:39\n 65      35.9         21.3         70.34  507.0   882  73  2022-12-12T11:00:06\n 66      36.2         21.5         70.70  452.0   539  21  2022-12-12T11:10:07\n \n [67 rows x 7 columns]]"
     },
     "execution_count": 2,
     "metadata": {},
     "output_type": "execute_result"
    }
   ],
   "source": [
    "l"
   ],
   "metadata": {
    "collapsed": false
   }
  },
  {
   "cell_type": "code",
   "execution_count": 3,
   "outputs": [
    {
     "data": {
      "text/plain": "    Humidity  Temperature  TemperatureF    Lux  Test  Ts             DateTime\n0       36.9         21.7         71.06  484.0   415   2  2022-12-12T13:02:04\n1       36.8         21.7         71.06  489.0   641  36  2022-12-12T13:03:04\n2       37.6         21.8         71.24  496.0   426   3  2022-12-12T13:04:04\n0       37.0         21.8         71.24  495.0   400   0  2022-12-12T13:05:31\n1       36.6         21.7         71.06  493.0   432   4  2022-12-12T13:06:31\n..       ...          ...           ...    ...   ...  ..                  ...\n1       35.7         19.7         67.46  495.0   400   0  2022-12-13T09:57:09\n2       35.5         19.7         67.46  518.0   400   0  2022-12-13T09:58:09\n3       35.5         19.8         67.64  520.0   400   0  2022-12-13T09:59:09\n4       35.4         19.9         67.82  522.0   400   0  2022-12-13T10:00:09\n5       35.1         20.0         68.00  485.0   400   0  2022-12-13T10:01:09\n\n[100 rows x 7 columns]",
      "text/html": "<div>\n<style scoped>\n    .dataframe tbody tr th:only-of-type {\n        vertical-align: middle;\n    }\n\n    .dataframe tbody tr th {\n        vertical-align: top;\n    }\n\n    .dataframe thead th {\n        text-align: right;\n    }\n</style>\n<table border=\"1\" class=\"dataframe\">\n  <thead>\n    <tr style=\"text-align: right;\">\n      <th></th>\n      <th>Humidity</th>\n      <th>Temperature</th>\n      <th>TemperatureF</th>\n      <th>Lux</th>\n      <th>Test</th>\n      <th>Ts</th>\n      <th>DateTime</th>\n    </tr>\n  </thead>\n  <tbody>\n    <tr>\n      <th>0</th>\n      <td>36.9</td>\n      <td>21.7</td>\n      <td>71.06</td>\n      <td>484.0</td>\n      <td>415</td>\n      <td>2</td>\n      <td>2022-12-12T13:02:04</td>\n    </tr>\n    <tr>\n      <th>1</th>\n      <td>36.8</td>\n      <td>21.7</td>\n      <td>71.06</td>\n      <td>489.0</td>\n      <td>641</td>\n      <td>36</td>\n      <td>2022-12-12T13:03:04</td>\n    </tr>\n    <tr>\n      <th>2</th>\n      <td>37.6</td>\n      <td>21.8</td>\n      <td>71.24</td>\n      <td>496.0</td>\n      <td>426</td>\n      <td>3</td>\n      <td>2022-12-12T13:04:04</td>\n    </tr>\n    <tr>\n      <th>0</th>\n      <td>37.0</td>\n      <td>21.8</td>\n      <td>71.24</td>\n      <td>495.0</td>\n      <td>400</td>\n      <td>0</td>\n      <td>2022-12-12T13:05:31</td>\n    </tr>\n    <tr>\n      <th>1</th>\n      <td>36.6</td>\n      <td>21.7</td>\n      <td>71.06</td>\n      <td>493.0</td>\n      <td>432</td>\n      <td>4</td>\n      <td>2022-12-12T13:06:31</td>\n    </tr>\n    <tr>\n      <th>...</th>\n      <td>...</td>\n      <td>...</td>\n      <td>...</td>\n      <td>...</td>\n      <td>...</td>\n      <td>...</td>\n      <td>...</td>\n    </tr>\n    <tr>\n      <th>1</th>\n      <td>35.7</td>\n      <td>19.7</td>\n      <td>67.46</td>\n      <td>495.0</td>\n      <td>400</td>\n      <td>0</td>\n      <td>2022-12-13T09:57:09</td>\n    </tr>\n    <tr>\n      <th>2</th>\n      <td>35.5</td>\n      <td>19.7</td>\n      <td>67.46</td>\n      <td>518.0</td>\n      <td>400</td>\n      <td>0</td>\n      <td>2022-12-13T09:58:09</td>\n    </tr>\n    <tr>\n      <th>3</th>\n      <td>35.5</td>\n      <td>19.8</td>\n      <td>67.64</td>\n      <td>520.0</td>\n      <td>400</td>\n      <td>0</td>\n      <td>2022-12-13T09:59:09</td>\n    </tr>\n    <tr>\n      <th>4</th>\n      <td>35.4</td>\n      <td>19.9</td>\n      <td>67.82</td>\n      <td>522.0</td>\n      <td>400</td>\n      <td>0</td>\n      <td>2022-12-13T10:00:09</td>\n    </tr>\n    <tr>\n      <th>5</th>\n      <td>35.1</td>\n      <td>20.0</td>\n      <td>68.00</td>\n      <td>485.0</td>\n      <td>400</td>\n      <td>0</td>\n      <td>2022-12-13T10:01:09</td>\n    </tr>\n  </tbody>\n</table>\n<p>100 rows × 7 columns</p>\n</div>"
     },
     "execution_count": 3,
     "metadata": {},
     "output_type": "execute_result"
    }
   ],
   "source": [
    "dfreadings.head(n=100)"
   ],
   "metadata": {
    "collapsed": false
   }
  },
  {
   "cell_type": "markdown",
   "source": [
    "### Load HRV data"
   ],
   "metadata": {
    "collapsed": false
   }
  },
  {
   "cell_type": "code",
   "execution_count": 4,
   "outputs": [],
   "source": [
    "import pandas as pd\n",
    "import os\n",
    "\n",
    "txtfolder = r'./Data/HRV/Niek_Snijders/' #Change to your folder path\n",
    "\n",
    "#Find the textfiles\n",
    "textfiles = []\n",
    "for root, folder, files in os.walk(txtfolder):\n",
    "    for file in files:\n",
    "        if file.endswith('.txt'):\n",
    "            fullname = os.path.join(root, file)\n",
    "            textfiles.append(fullname)\n",
    "textfiles.sort() #Sort the filesnames\n",
    "\n",
    "#Read each of them to a dataframe\n",
    "for filenum, file in enumerate(textfiles, 1):\n",
    "    if filenum==1:\n",
    "        df = pd.read_csv(file, names=['RR'], delim_whitespace=True)\n",
    "        date = os.path.basename(file).split(\".\")[0].split(\" \")[0]\n",
    "        time = os.path.basename(file).split(\".\")[0].split(\" \")[1]\n",
    "        split_date = date.split(\"-\")\n",
    "        split_time = time.split(\"-\")\n",
    "        df['DateTime']=split_date[2]+\"-\"+split_date[1]+\"-\"+split_date[0]+ \" \" + split_time[0] + \":\" + split_time[1] + \":\" + split_time[2]\n",
    "        df['DateTime'] = pd.to_datetime(df['DateTime'])\n",
    "    else:\n",
    "        tempdf = pd.read_csv(file, names=['RR'], delim_whitespace=True)\n",
    "        date = os.path.basename(file).split(\".\")[0].split(\" \")[0]\n",
    "        time = os.path.basename(file).split(\".\")[0].split(\" \")[1]\n",
    "        split_date = date.split(\"-\")\n",
    "        split_time = time.split(\"-\")\n",
    "        tempdf['DateTime']=split_date[2]+\"-\"+split_date[1]+\"-\"+split_date[0]+ \" \" + split_time[0] + \":\" + split_time[1] + \":\" + split_time[2]\n",
    "        tempdf['DateTime'] = pd.to_datetime(tempdf['DateTime'])\n",
    "        df = pd.concat([df, tempdf], ignore_index=True)"
   ],
   "metadata": {
    "collapsed": false
   }
  },
  {
   "cell_type": "code",
   "execution_count": 5,
   "outputs": [
    {
     "data": {
      "text/plain": "    RR            DateTime\n0  776 2022-11-17 15:17:06\n1  758 2022-11-17 15:17:06\n2  737 2022-11-17 15:17:06\n3  711 2022-11-17 15:17:06\n4  738 2022-11-17 15:17:06",
      "text/html": "<div>\n<style scoped>\n    .dataframe tbody tr th:only-of-type {\n        vertical-align: middle;\n    }\n\n    .dataframe tbody tr th {\n        vertical-align: top;\n    }\n\n    .dataframe thead th {\n        text-align: right;\n    }\n</style>\n<table border=\"1\" class=\"dataframe\">\n  <thead>\n    <tr style=\"text-align: right;\">\n      <th></th>\n      <th>RR</th>\n      <th>DateTime</th>\n    </tr>\n  </thead>\n  <tbody>\n    <tr>\n      <th>0</th>\n      <td>776</td>\n      <td>2022-11-17 15:17:06</td>\n    </tr>\n    <tr>\n      <th>1</th>\n      <td>758</td>\n      <td>2022-11-17 15:17:06</td>\n    </tr>\n    <tr>\n      <th>2</th>\n      <td>737</td>\n      <td>2022-11-17 15:17:06</td>\n    </tr>\n    <tr>\n      <th>3</th>\n      <td>711</td>\n      <td>2022-11-17 15:17:06</td>\n    </tr>\n    <tr>\n      <th>4</th>\n      <td>738</td>\n      <td>2022-11-17 15:17:06</td>\n    </tr>\n  </tbody>\n</table>\n</div>"
     },
     "execution_count": 5,
     "metadata": {},
     "output_type": "execute_result"
    }
   ],
   "source": [
    "df.head()"
   ],
   "metadata": {
    "collapsed": false
   }
  },
  {
   "cell_type": "code",
   "execution_count": 6,
   "outputs": [],
   "source": [
    "def calculateHRV(df):\n",
    "    array = df[[\"RR\"]].to_numpy()\n",
    "    sumOfSuccessiveDifference = 0.0\n",
    "    for idx, x in enumerate(array):\n",
    "        if x != array[-1]:\n",
    "            sumOfSuccessiveDifference += (array[idx] - array[idx + 1])**2\n",
    "    return math.sqrt(sumOfSuccessiveDifference/len(array))"
   ],
   "metadata": {
    "collapsed": false
   }
  },
  {
   "cell_type": "code",
   "execution_count": 7,
   "outputs": [],
   "source": [
    "dfHRVNiek = df.groupby([\"DateTime\"]).apply(lambda x: calculateHRV(x)).astype(float)"
   ],
   "metadata": {
    "collapsed": false
   }
  },
  {
   "cell_type": "code",
   "execution_count": 8,
   "outputs": [
    {
     "data": {
      "text/plain": "DateTime\n2022-01-12 14:35:12    92.179360\n2022-06-12 15:52:08    63.953953\n2022-06-12 15:54:01    78.683995\n2022-07-12 10:19:15    45.998991\n2022-07-12 12:44:46    59.847481\n2022-07-12 13:57:29    48.507507\n2022-11-17 15:17:06    42.056698\n2022-11-18 11:00:00    42.440603\n2022-11-24 12:01:05    45.918517\n2022-11-30 11:07:17    36.091961\n2022-11-30 11:49:08    52.136928\n2022-12-13 10:26:14    16.066151\ndtype: float64"
     },
     "execution_count": 8,
     "metadata": {},
     "output_type": "execute_result"
    }
   ],
   "source": [
    "dfHRVNiek.head(n=20)"
   ],
   "metadata": {
    "collapsed": false
   }
  },
  {
   "cell_type": "markdown",
   "source": [
    "### Load selfreporting data"
   ],
   "metadata": {
    "collapsed": false
   }
  },
  {
   "cell_type": "code",
   "execution_count": 9,
   "outputs": [],
   "source": [
    "import pandas as pd\n",
    "l = [pd.read_csv(filename) for filename in glob.glob(\"./data/selfreporting/*.csv\")]\n",
    "dfself = pd.concat(l, axis=0)"
   ],
   "metadata": {
    "collapsed": false
   }
  },
  {
   "cell_type": "code",
   "execution_count": 10,
   "outputs": [
    {
     "data": {
      "text/plain": "   Air Qualityall Good  Beverage Cloth 1 Cloth 2 Cloth 3 Cloth 4 Cloth 5  \\\n0                  YES         2      NO     YES     YES      NO      NO   \n1                  YES         1      NO     YES     YES      NO      NO   \n2                  YES         2      NO     YES     YES      NO      NO   \n3                  YES         2      NO      NO     YES      NO      NO   \n4                  YES         2      NO      NO     YES      NO      NO   \n5                   NO         2      NO      NO     YES      NO      NO   \n6                  YES         2      NO      NO     YES      NO      NO   \n7                  YES         2      NO      NO     YES      NO      NO   \n8                  YES         2      NO      NO     YES      NO      NO   \n9                   NO         2      NO      NO     YES      NO      NO   \n10                  NO         2      NO      NO     YES      NO      NO   \n11                  NO         2      NO     YES     YES      NO      NO   \n12                 YES         2      NO     YES     YES      NO      NO   \n13                 YES         2      NO     YES     YES      NO      NO   \n0                  YES         3     NaN     NaN     YES     NaN     NaN   \n1                  YES         3     NaN     NaN     YES     NaN     NaN   \n2                  YES         3     NaN     NaN     YES     NaN     NaN   \n3                  YES         3     NaN     NaN     YES     NaN     NaN   \n\n   Cloth 6 Cloth 7 Duration Of Location  ...            Location  \\\n0       NO      NO            1-2 hours  ...  LA Explora floor 2   \n1       NO      NO    more than 3 hours  ...               LA402   \n2       NO      NO    more than 3 hours  ...               LA402   \n3       NO     YES    more than 3 hours  ...               LA222   \n4       NO     YES    more than 3 hours  ...               LA223   \n5       NO     YES    more than 3 hours  ...               LA223   \n6       NO     YES    more than 3 hours  ...               LA223   \n7       NO     YES    more than 3 hours  ...               LA223   \n8       NO     YES    more than 3 hours  ...               LA223   \n9       NO     YES    more than 3 hours  ...               LA223   \n10      NO     YES    more than 3 hours  ...               LA223   \n11      NO     YES    less than an hour  ...  LA Explora floor 2   \n12      NO     YES    less than an hour  ...  LA Explora floor 2   \n13      NO     YES    less than an hour  ...  LA Explora floor 2   \n0      NaN     YES    less than an hour  ...  LA Explora floor 2   \n1      NaN     YES            1-2 hours  ...  LA Explora floor 2   \n2      NaN     YES    more than 3 hours  ...               LA402   \n3      NaN     YES    less than an hour  ...  LA Explora floor 2   \n\n    Mode Of Transport Mood  Smelly  Stuffy  Suffocating Thermal Comfort  \\\n0                   1    3     NaN     NaN          NaN               5   \n1                   1    3     NaN     NaN          NaN               4   \n2                   1    4     NaN     NaN          NaN               5   \n3                   1    4     NaN     NaN          NaN               5   \n4                   1    4     NaN     NaN          NaN               5   \n5                   1    4     NaN    True          NaN               5   \n6                   1    4     NaN     NaN          NaN               4   \n7                   1    4     NaN     NaN          NaN               4   \n8                   1    3     NaN     NaN          NaN               4   \n9                   1    3     NaN    True          NaN               4   \n10                  1    2     NaN    True          NaN               5   \n11                  1    2     NaN    True          NaN               3   \n12                  1    3     NaN     NaN          NaN               4   \n13                  1    3     NaN     NaN          NaN               3   \n0                   1    4     NaN     NaN          NaN               3   \n1                   1    4     NaN     NaN          NaN               3   \n2                   1    4     NaN     NaN          NaN               5   \n3                   1    3     NaN     NaN          NaN               5   \n\n    Thermal Preference                           Timestamp       User Name  \n0                    1   2022/12/7 2022-12-07 10:42:04.299   job@email.com  \n1                    2   2022/12/7 2022-12-07 13:51:00.415   job@email.com  \n2                    2   2022/12/7 2022-12-07 14:04:39.307   job@email.com  \n3                    1  2022/12/12 2022-12-12 13:34:15.607   job@email.com  \n4                    1  2022/12/12 2022-12-12 13:42:56.603   job@email.com  \n5                    1  2022/12/12 2022-12-12 13:56:09.337   job@email.com  \n6                    1  2022/12/12 2022-12-12 14:02:44.077   job@email.com  \n7                    2  2022/12/12 2022-12-12 14:11:54.980   job@email.com  \n8                    2  2022/12/12 2022-12-12 14:22:24.339   job@email.com  \n9                    1  2022/12/12 2022-12-12 14:34:48.558   job@email.com  \n10                   1  2022/12/12 2022-12-12 14:46:16.638   job@email.com  \n11                   2  2022/12/13 2022-12-13 10:07:18.708   job@email.com  \n12                   2  2022/12/13 2022-12-13 10:31:09.011   job@email.com  \n13                   2  2022/12/13 2022-12-13 10:43:31.832   job@email.com  \n0                    2   2022/12/7 2022-12-07 10:40:55.494  niek@email.com  \n1                    2   2022/12/7 2022-12-07 12:46:35.158  niek@email.com  \n2                    2   2022/12/7 2022-12-07 14:04:53.884  niek@email.com  \n3                    2  2022/12/13 2022-12-13 10:27:47.023  niek@email.com  \n\n[18 rows x 22 columns]",
      "text/html": "<div>\n<style scoped>\n    .dataframe tbody tr th:only-of-type {\n        vertical-align: middle;\n    }\n\n    .dataframe tbody tr th {\n        vertical-align: top;\n    }\n\n    .dataframe thead th {\n        text-align: right;\n    }\n</style>\n<table border=\"1\" class=\"dataframe\">\n  <thead>\n    <tr style=\"text-align: right;\">\n      <th></th>\n      <th>Air Qualityall Good</th>\n      <th>Beverage</th>\n      <th>Cloth 1</th>\n      <th>Cloth 2</th>\n      <th>Cloth 3</th>\n      <th>Cloth 4</th>\n      <th>Cloth 5</th>\n      <th>Cloth 6</th>\n      <th>Cloth 7</th>\n      <th>Duration Of Location</th>\n      <th>...</th>\n      <th>Location</th>\n      <th>Mode Of Transport</th>\n      <th>Mood</th>\n      <th>Smelly</th>\n      <th>Stuffy</th>\n      <th>Suffocating</th>\n      <th>Thermal Comfort</th>\n      <th>Thermal Preference</th>\n      <th>Timestamp</th>\n      <th>User Name</th>\n    </tr>\n  </thead>\n  <tbody>\n    <tr>\n      <th>0</th>\n      <td>YES</td>\n      <td>2</td>\n      <td>NO</td>\n      <td>YES</td>\n      <td>YES</td>\n      <td>NO</td>\n      <td>NO</td>\n      <td>NO</td>\n      <td>NO</td>\n      <td>1-2 hours</td>\n      <td>...</td>\n      <td>LA Explora floor 2</td>\n      <td>1</td>\n      <td>3</td>\n      <td>NaN</td>\n      <td>NaN</td>\n      <td>NaN</td>\n      <td>5</td>\n      <td>1</td>\n      <td>2022/12/7 2022-12-07 10:42:04.299</td>\n      <td>job@email.com</td>\n    </tr>\n    <tr>\n      <th>1</th>\n      <td>YES</td>\n      <td>1</td>\n      <td>NO</td>\n      <td>YES</td>\n      <td>YES</td>\n      <td>NO</td>\n      <td>NO</td>\n      <td>NO</td>\n      <td>NO</td>\n      <td>more than 3 hours</td>\n      <td>...</td>\n      <td>LA402</td>\n      <td>1</td>\n      <td>3</td>\n      <td>NaN</td>\n      <td>NaN</td>\n      <td>NaN</td>\n      <td>4</td>\n      <td>2</td>\n      <td>2022/12/7 2022-12-07 13:51:00.415</td>\n      <td>job@email.com</td>\n    </tr>\n    <tr>\n      <th>2</th>\n      <td>YES</td>\n      <td>2</td>\n      <td>NO</td>\n      <td>YES</td>\n      <td>YES</td>\n      <td>NO</td>\n      <td>NO</td>\n      <td>NO</td>\n      <td>NO</td>\n      <td>more than 3 hours</td>\n      <td>...</td>\n      <td>LA402</td>\n      <td>1</td>\n      <td>4</td>\n      <td>NaN</td>\n      <td>NaN</td>\n      <td>NaN</td>\n      <td>5</td>\n      <td>2</td>\n      <td>2022/12/7 2022-12-07 14:04:39.307</td>\n      <td>job@email.com</td>\n    </tr>\n    <tr>\n      <th>3</th>\n      <td>YES</td>\n      <td>2</td>\n      <td>NO</td>\n      <td>NO</td>\n      <td>YES</td>\n      <td>NO</td>\n      <td>NO</td>\n      <td>NO</td>\n      <td>YES</td>\n      <td>more than 3 hours</td>\n      <td>...</td>\n      <td>LA222</td>\n      <td>1</td>\n      <td>4</td>\n      <td>NaN</td>\n      <td>NaN</td>\n      <td>NaN</td>\n      <td>5</td>\n      <td>1</td>\n      <td>2022/12/12 2022-12-12 13:34:15.607</td>\n      <td>job@email.com</td>\n    </tr>\n    <tr>\n      <th>4</th>\n      <td>YES</td>\n      <td>2</td>\n      <td>NO</td>\n      <td>NO</td>\n      <td>YES</td>\n      <td>NO</td>\n      <td>NO</td>\n      <td>NO</td>\n      <td>YES</td>\n      <td>more than 3 hours</td>\n      <td>...</td>\n      <td>LA223</td>\n      <td>1</td>\n      <td>4</td>\n      <td>NaN</td>\n      <td>NaN</td>\n      <td>NaN</td>\n      <td>5</td>\n      <td>1</td>\n      <td>2022/12/12 2022-12-12 13:42:56.603</td>\n      <td>job@email.com</td>\n    </tr>\n    <tr>\n      <th>5</th>\n      <td>NO</td>\n      <td>2</td>\n      <td>NO</td>\n      <td>NO</td>\n      <td>YES</td>\n      <td>NO</td>\n      <td>NO</td>\n      <td>NO</td>\n      <td>YES</td>\n      <td>more than 3 hours</td>\n      <td>...</td>\n      <td>LA223</td>\n      <td>1</td>\n      <td>4</td>\n      <td>NaN</td>\n      <td>True</td>\n      <td>NaN</td>\n      <td>5</td>\n      <td>1</td>\n      <td>2022/12/12 2022-12-12 13:56:09.337</td>\n      <td>job@email.com</td>\n    </tr>\n    <tr>\n      <th>6</th>\n      <td>YES</td>\n      <td>2</td>\n      <td>NO</td>\n      <td>NO</td>\n      <td>YES</td>\n      <td>NO</td>\n      <td>NO</td>\n      <td>NO</td>\n      <td>YES</td>\n      <td>more than 3 hours</td>\n      <td>...</td>\n      <td>LA223</td>\n      <td>1</td>\n      <td>4</td>\n      <td>NaN</td>\n      <td>NaN</td>\n      <td>NaN</td>\n      <td>4</td>\n      <td>1</td>\n      <td>2022/12/12 2022-12-12 14:02:44.077</td>\n      <td>job@email.com</td>\n    </tr>\n    <tr>\n      <th>7</th>\n      <td>YES</td>\n      <td>2</td>\n      <td>NO</td>\n      <td>NO</td>\n      <td>YES</td>\n      <td>NO</td>\n      <td>NO</td>\n      <td>NO</td>\n      <td>YES</td>\n      <td>more than 3 hours</td>\n      <td>...</td>\n      <td>LA223</td>\n      <td>1</td>\n      <td>4</td>\n      <td>NaN</td>\n      <td>NaN</td>\n      <td>NaN</td>\n      <td>4</td>\n      <td>2</td>\n      <td>2022/12/12 2022-12-12 14:11:54.980</td>\n      <td>job@email.com</td>\n    </tr>\n    <tr>\n      <th>8</th>\n      <td>YES</td>\n      <td>2</td>\n      <td>NO</td>\n      <td>NO</td>\n      <td>YES</td>\n      <td>NO</td>\n      <td>NO</td>\n      <td>NO</td>\n      <td>YES</td>\n      <td>more than 3 hours</td>\n      <td>...</td>\n      <td>LA223</td>\n      <td>1</td>\n      <td>3</td>\n      <td>NaN</td>\n      <td>NaN</td>\n      <td>NaN</td>\n      <td>4</td>\n      <td>2</td>\n      <td>2022/12/12 2022-12-12 14:22:24.339</td>\n      <td>job@email.com</td>\n    </tr>\n    <tr>\n      <th>9</th>\n      <td>NO</td>\n      <td>2</td>\n      <td>NO</td>\n      <td>NO</td>\n      <td>YES</td>\n      <td>NO</td>\n      <td>NO</td>\n      <td>NO</td>\n      <td>YES</td>\n      <td>more than 3 hours</td>\n      <td>...</td>\n      <td>LA223</td>\n      <td>1</td>\n      <td>3</td>\n      <td>NaN</td>\n      <td>True</td>\n      <td>NaN</td>\n      <td>4</td>\n      <td>1</td>\n      <td>2022/12/12 2022-12-12 14:34:48.558</td>\n      <td>job@email.com</td>\n    </tr>\n    <tr>\n      <th>10</th>\n      <td>NO</td>\n      <td>2</td>\n      <td>NO</td>\n      <td>NO</td>\n      <td>YES</td>\n      <td>NO</td>\n      <td>NO</td>\n      <td>NO</td>\n      <td>YES</td>\n      <td>more than 3 hours</td>\n      <td>...</td>\n      <td>LA223</td>\n      <td>1</td>\n      <td>2</td>\n      <td>NaN</td>\n      <td>True</td>\n      <td>NaN</td>\n      <td>5</td>\n      <td>1</td>\n      <td>2022/12/12 2022-12-12 14:46:16.638</td>\n      <td>job@email.com</td>\n    </tr>\n    <tr>\n      <th>11</th>\n      <td>NO</td>\n      <td>2</td>\n      <td>NO</td>\n      <td>YES</td>\n      <td>YES</td>\n      <td>NO</td>\n      <td>NO</td>\n      <td>NO</td>\n      <td>YES</td>\n      <td>less than an hour</td>\n      <td>...</td>\n      <td>LA Explora floor 2</td>\n      <td>1</td>\n      <td>2</td>\n      <td>NaN</td>\n      <td>True</td>\n      <td>NaN</td>\n      <td>3</td>\n      <td>2</td>\n      <td>2022/12/13 2022-12-13 10:07:18.708</td>\n      <td>job@email.com</td>\n    </tr>\n    <tr>\n      <th>12</th>\n      <td>YES</td>\n      <td>2</td>\n      <td>NO</td>\n      <td>YES</td>\n      <td>YES</td>\n      <td>NO</td>\n      <td>NO</td>\n      <td>NO</td>\n      <td>YES</td>\n      <td>less than an hour</td>\n      <td>...</td>\n      <td>LA Explora floor 2</td>\n      <td>1</td>\n      <td>3</td>\n      <td>NaN</td>\n      <td>NaN</td>\n      <td>NaN</td>\n      <td>4</td>\n      <td>2</td>\n      <td>2022/12/13 2022-12-13 10:31:09.011</td>\n      <td>job@email.com</td>\n    </tr>\n    <tr>\n      <th>13</th>\n      <td>YES</td>\n      <td>2</td>\n      <td>NO</td>\n      <td>YES</td>\n      <td>YES</td>\n      <td>NO</td>\n      <td>NO</td>\n      <td>NO</td>\n      <td>YES</td>\n      <td>less than an hour</td>\n      <td>...</td>\n      <td>LA Explora floor 2</td>\n      <td>1</td>\n      <td>3</td>\n      <td>NaN</td>\n      <td>NaN</td>\n      <td>NaN</td>\n      <td>3</td>\n      <td>2</td>\n      <td>2022/12/13 2022-12-13 10:43:31.832</td>\n      <td>job@email.com</td>\n    </tr>\n    <tr>\n      <th>0</th>\n      <td>YES</td>\n      <td>3</td>\n      <td>NaN</td>\n      <td>NaN</td>\n      <td>YES</td>\n      <td>NaN</td>\n      <td>NaN</td>\n      <td>NaN</td>\n      <td>YES</td>\n      <td>less than an hour</td>\n      <td>...</td>\n      <td>LA Explora floor 2</td>\n      <td>1</td>\n      <td>4</td>\n      <td>NaN</td>\n      <td>NaN</td>\n      <td>NaN</td>\n      <td>3</td>\n      <td>2</td>\n      <td>2022/12/7 2022-12-07 10:40:55.494</td>\n      <td>niek@email.com</td>\n    </tr>\n    <tr>\n      <th>1</th>\n      <td>YES</td>\n      <td>3</td>\n      <td>NaN</td>\n      <td>NaN</td>\n      <td>YES</td>\n      <td>NaN</td>\n      <td>NaN</td>\n      <td>NaN</td>\n      <td>YES</td>\n      <td>1-2 hours</td>\n      <td>...</td>\n      <td>LA Explora floor 2</td>\n      <td>1</td>\n      <td>4</td>\n      <td>NaN</td>\n      <td>NaN</td>\n      <td>NaN</td>\n      <td>3</td>\n      <td>2</td>\n      <td>2022/12/7 2022-12-07 12:46:35.158</td>\n      <td>niek@email.com</td>\n    </tr>\n    <tr>\n      <th>2</th>\n      <td>YES</td>\n      <td>3</td>\n      <td>NaN</td>\n      <td>NaN</td>\n      <td>YES</td>\n      <td>NaN</td>\n      <td>NaN</td>\n      <td>NaN</td>\n      <td>YES</td>\n      <td>more than 3 hours</td>\n      <td>...</td>\n      <td>LA402</td>\n      <td>1</td>\n      <td>4</td>\n      <td>NaN</td>\n      <td>NaN</td>\n      <td>NaN</td>\n      <td>5</td>\n      <td>2</td>\n      <td>2022/12/7 2022-12-07 14:04:53.884</td>\n      <td>niek@email.com</td>\n    </tr>\n    <tr>\n      <th>3</th>\n      <td>YES</td>\n      <td>3</td>\n      <td>NaN</td>\n      <td>NaN</td>\n      <td>YES</td>\n      <td>NaN</td>\n      <td>NaN</td>\n      <td>NaN</td>\n      <td>YES</td>\n      <td>less than an hour</td>\n      <td>...</td>\n      <td>LA Explora floor 2</td>\n      <td>1</td>\n      <td>3</td>\n      <td>NaN</td>\n      <td>NaN</td>\n      <td>NaN</td>\n      <td>5</td>\n      <td>2</td>\n      <td>2022/12/13 2022-12-13 10:27:47.023</td>\n      <td>niek@email.com</td>\n    </tr>\n  </tbody>\n</table>\n<p>18 rows × 22 columns</p>\n</div>"
     },
     "execution_count": 10,
     "metadata": {},
     "output_type": "execute_result"
    }
   ],
   "source": [
    "dfself.head(n=40)"
   ],
   "metadata": {
    "collapsed": false
   }
  },
  {
   "cell_type": "code",
   "execution_count": 10,
   "outputs": [],
   "source": [],
   "metadata": {
    "collapsed": false
   }
  }
 ],
 "metadata": {
  "kernelspec": {
   "display_name": "Python 3",
   "language": "python",
   "name": "python3"
  },
  "language_info": {
   "codemirror_mode": {
    "name": "ipython",
    "version": 2
   },
   "file_extension": ".py",
   "mimetype": "text/x-python",
   "name": "python",
   "nbconvert_exporter": "python",
   "pygments_lexer": "ipython2",
   "version": "2.7.6"
  }
 },
 "nbformat": 4,
 "nbformat_minor": 0
}
